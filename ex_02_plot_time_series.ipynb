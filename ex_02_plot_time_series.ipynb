{
 "cells": [
  {
   "cell_type": "code",
   "metadata": {
    "ExecuteTime": {
     "end_time": "2025-05-26T13:32:38.810464Z",
     "start_time": "2025-05-26T13:32:38.220951Z"
    }
   },
   "source": [
    "import numpy as np\n",
    "import pandas as pd\n",
    "from pathlib import Path\n",
    "from matplotlib import pyplot as plt\n",
    "from plotly.offline import plot\n",
    "\n",
    "import plotly.express as px\n",
    "import plotly.graph_objects as go\n",
    "from plotly.subplots import make_subplots\n",
    "\n",
    "from utils import save_plotly_figure_as_html\n",
    "from ex_01_read_data import get_welding_data\n",
    "\n"
   ],
   "outputs": [],
   "execution_count": 1
  },
  {
   "cell_type": "code",
   "metadata": {
    "ExecuteTime": {
     "end_time": "2025-05-26T13:32:38.832841Z",
     "start_time": "2025-05-26T13:32:38.829614Z"
    }
   },
   "source": [
    "data_path = Path(\"data/Welding/data.csv\")\n",
    "plot_path = Path(\"plots/ex_02\")"
   ],
   "outputs": [],
   "execution_count": 2
  },
  {
   "cell_type": "markdown",
   "metadata": {},
   "source": [
    "## Exercise 2.1: Dataset Statistics Analysis\n",
    "\n",
    "In this exercise, we'll calculate and present comprehensive descriptive statistics for the welding dataset. This statistical overview will help us understand the fundamental characteristics of our data before visualization or modeling.\n",
    "\n",
    "1. Calculate the class distribution to understand data balance\n",
    "2. Count samples per experiment to assess data volume across experimental conditions\n",
    "3. Determine min/max values for voltage and current to understand the range of measurements\n",
    "4. Calculate mean and standard deviation to assess central tendency and variability\n",
    "5. Find median values to identify central points unaffected by outliers"
   ]
  },
  {
   "cell_type": "code",
   "metadata": {
    "ExecuteTime": {
     "end_time": "2025-05-26T13:32:39.160984Z",
     "start_time": "2025-05-26T13:32:39.019759Z"
    }
   },
   "source": [
    "data, labels, exp_ids = get_welding_data(data_path)"
   ],
   "outputs": [],
   "execution_count": 3
  },
  {
   "cell_type": "code",
   "metadata": {
    "ExecuteTime": {
     "end_time": "2025-05-26T13:32:40.823860Z",
     "start_time": "2025-05-26T13:32:39.264443Z"
    }
   },
   "source": [
    "# Class Distribution\n",
    "class_counts = pd.Series(labels).value_counts().sort_index()\n",
    "print(\"Class distribution:\\n\", class_counts)\n",
    "\n",
    "# Count samples Experiment\n",
    "experiment_counts = pd.Series(exp_ids).value_counts().sort_index()\n",
    "print(\"\\nSamples per experiment:\\n\", experiment_counts)\n",
    "\n",
    "# Determine min max vlaues\n",
    "voltage_cols = np.arange(0, data.shape[1], 2)\n",
    "current_cols = np.arange(1, data.shape[1], 2)\n",
    "\n",
    "voltages = data[:, voltage_cols]\n",
    "currents = data[:, current_cols]\n",
    "\n",
    "# Statistiken\n",
    "print(\"\\nVoltage statistics:\")\n",
    "print(f\"Min: {voltages.min():.2f}, Max: {voltages.max():.2f}\")\n",
    "print(f\"Mean: {voltages.mean():.2f}, Std: {voltages.std():.2f}, Median: {np.median(voltages):.2f}\")\n",
    "\n",
    "print(\"\\nCurrent statistics:\")\n",
    "print(f\"Min: {currents.min():.2f}, Max: {currents.max():.2f}\")\n",
    "print(f\"Mean: {currents.mean():.2f}, Std: {currents.std():.2f}, Median: {np.median(currents):.2f}\")\n",
    "\n"
   ],
   "outputs": [
    {
     "name": "stdout",
     "output_type": "stream",
     "text": [
      "Class distribution:\n",
      " 0    90746\n",
      "1    67219\n",
      "Name: count, dtype: int64\n",
      "\n",
      "Samples per experiment:\n",
      " 1    35521\n",
      "2    17913\n",
      "3    46768\n",
      "4    57763\n",
      "Name: count, dtype: int64\n",
      "\n",
      "Voltage statistics:\n",
      "Min: -1.17, Max: 614.15\n",
      "Mean: 97.75, Std: 148.67, Median: 30.08\n",
      "\n",
      "Current statistics:\n",
      "Min: -1.18, Max: 613.79\n",
      "Mean: 97.74, Std: 148.67, Median: 30.08\n"
     ]
    }
   ],
   "execution_count": 4
  },
  {
   "cell_type": "markdown",
   "metadata": {},
   "source": [
    "## Exercise 2.2: Current and Voltage Distribution Visualization\n",
    "\n",
    "In this exercise, we'll create interactive boxplots to visualize and compare the distributions of voltage and current measurements in the welding data. Boxplots will help us identify central tendencies, spread, and potential outliers in our measurements.\n",
    "\n",
    "1. Create side-by-side boxplots for voltage and current using Plotly\n",
    "2. Display key statistics (median, quartiles, etc.) in a visual format in the plot\n",
    "3. Enable interactive exploration of the distributions\n",
    "4. Save the visualization for future reference"
   ]
  },
  {
   "cell_type": "code",
   "metadata": {
    "ExecuteTime": {
     "end_time": "2025-05-26T13:32:41.158124Z",
     "start_time": "2025-05-26T13:32:40.929645Z"
    }
   },
   "source": [
    "data, labels, exp_ids = get_welding_data(data_path, n_samples=10)\n",
    "\n",
    "save_path =  plot_path / \"voltage_current_distribution\""
   ],
   "outputs": [],
   "execution_count": 5
  },
  {
   "cell_type": "code",
   "metadata": {
    "ExecuteTime": {
     "end_time": "2025-05-26T13:32:41.580966Z",
     "start_time": "2025-05-26T13:32:41.181396Z"
    }
   },
   "source": [
    "# Select voltage and current columns\n",
    "voltage_cols = np.arange(0, data.shape[1], 2)\n",
    "current_cols = np.arange(1, data.shape[1], 2)\n",
    "\n",
    "voltages = data[:, voltage_cols].flatten()\n",
    "currents = data[:, current_cols].flatten()\n",
    "\n",
    "# Create a DataFrame for plotting\n",
    "df_plot = pd.DataFrame({\n",
    "    \"Voltage\": voltages,\n",
    "    \"Current\": currents\n",
    "})\n",
    "\n",
    "# Melt the DataFrame to long format for Plotly\n",
    "df_melted = df_plot.melt(var_name='Measurement Type', value_name='Value')\n",
    "\n",
    "# Create boxplot\n",
    "fig = px.box(df_melted, x='Measurement Type', y='Value', points='all', title=\"Voltage and Current Distributions\")\n",
    "\n",
    "# Show interactive plot\n",
    "plot(fig)\n",
    "\n",
    "# Save to HTML\n",
    "save_plotly_figure_as_html(fig, save_path)\n"
   ],
   "outputs": [],
   "execution_count": 6
  },
  {
   "cell_type": "markdown",
   "metadata": {},
   "source": [
    "## Exercise 2.3: Time-Series Sequence Visualization\n",
    "\n",
    "In this exercise, we'll implement functions to visualize the time-series patterns of welding cycles. These visualizations will help us understand the temporal relationships between voltage and current during the welding process and identify patterns associated with quality outcomes.\n",
    "\n",
    "1. Create dual-axis plots showing voltage and current over time (10 welding cycles -> sequence_length=10) using matplotlib\n",
    "2. Implement clear legends and labels for data interpretation\n",
    "3. Enable saving of visualizations for reporting and comparison"
   ]
  },
  {
   "cell_type": "code",
   "metadata": {
    "ExecuteTime": {
     "end_time": "2025-05-26T13:32:41.807594Z",
     "start_time": "2025-05-26T13:32:41.623599Z"
    }
   },
   "source": [
    "\n",
    "data, labels, exp_ids = get_welding_data(data_path, n_samples=100, return_sequences=True, sequence_length=10)\n",
    "save_path = plot_path / \"welding_sample.png\"    "
   ],
   "outputs": [],
   "execution_count": 7
  },
  {
   "cell_type": "code",
   "metadata": {
    "ExecuteTime": {
     "end_time": "2025-05-26T13:32:42.583749Z",
     "start_time": "2025-05-26T13:32:41.829632Z"
    }
   },
   "source": [
    "index = 0\n",
    "\n",
    "if index >= len(data):\n",
    "    raise IndexError(f\"Index {index} is out of range for data with shape {data.shape}\")\n",
    "\n",
    "sequence = data[index]\n",
    "time = np.arange(sequence.shape[0])\n",
    "current = sequence[:, 0]\n",
    "voltage = sequence[:, 1]\n",
    "\n",
    "fig, ax1 = plt.subplots(figsize=(10, 5))\n",
    "\n",
    "# Plot current\n",
    "ax1.set_xlabel(\"Time step\")\n",
    "ax1.set_ylabel(\"Current (A)\", color='tab:blue')\n",
    "ax1.plot(time, current, label=\"Current\", color='tab:blue')\n",
    "ax1.tick_params(axis='y', labelcolor='tab:blue')\n",
    "\n",
    "# Plot voltage on second axis\n",
    "ax2 = ax1.twinx()\n",
    "ax2.set_ylabel(\"Voltage (V)\", color='tab:red')\n",
    "ax2.plot(time, voltage, label=\"Voltage\", color='tab:red')\n",
    "ax2.tick_params(axis='y', labelcolor='tab:red')\n",
    "\n",
    "# Title and legend\n",
    "plt.title(f\"Sequence for Welding Cycle #{exp_ids[index]} (Label: {labels[index]})\")\n",
    "\n",
    "lines_1, labels_1 = ax1.get_legend_handles_labels()\n",
    "lines_2, labels_2 = ax2.get_legend_handles_labels()\n",
    "ax1.legend(lines_1 + lines_2, labels_1 + labels_2, loc='upper left')\n",
    "\n",
    "fig.tight_layout()\n",
    "\n",
    "if save_path:\n",
    "    save_path.parent.mkdir(parents=True, exist_ok=True)\n",
    "    plt.savefig(save_path, dpi=300, bbox_inches=\"tight\")\n",
    "    print(f\"Plot saved to {save_path}\")\n",
    "else:\n",
    "    plt.show()\n",
    "\n",
    "    plt.close()"
   ],
   "outputs": [
    {
     "name": "stdout",
     "output_type": "stream",
     "text": [
      "Plot saved to plots/ex_02/welding_sample.png\n"
     ]
    },
    {
     "data": {
      "text/plain": [
       "<Figure size 1000x500 with 2 Axes>"
      ],
      "image/png": "[encoded data removed]"
     },
     "metadata": {},
     "output_type": "display_data"
    }
   ],
   "execution_count": 8
  },
  {
   "cell_type": "markdown",
   "metadata": {},
   "source": [
    "## Exercise 2.4: Interactive Time-Series Visualization with Plotly\n",
    "\n",
    "In this exercise, we'll create enhanced interactive visualizations of welding samples using Plotly. These interactive plots will provide more advanced exploration capabilities for analyzing the time-series patterns.\n",
    "\n",
    "1. Create interactive plots with dual y-axes for voltage and current\n",
    "2. Implement time-based range sliders for detailed exploration\n",
    "3. Add unified tooltips for precise data reading\n",
    "4. Display quality metrics in the plot title\n",
    "5. Save interactive visualizations as HTML for sharing"
   ]
  },
  {
   "cell_type": "code",
   "metadata": {
    "ExecuteTime": {
     "end_time": "2025-05-26T13:32:42.652432Z",
     "start_time": "2025-05-26T13:32:42.647463Z"
    }
   },
   "source": [
    "import numpy as np\n",
    "import plotly.graph_objects as go\n",
    "import random\n",
    "\n",
    "def create_plotly_plot(data: np.ndarray, labels: np.ndarray, exp_ids: np.ndarray = None) -> go.Figure:\n",
    "    idx = random.randint(0, data.shape[0] - 1)\n",
    "    sample = data[idx]\n",
    "    voltage = sample[:, 0]\n",
    "    current = sample[:, 1]\n",
    "    time = np.arange(len(voltage))  # Annahme: gleichmäßig verteilte Zeit\n",
    "\n",
    "    fig = go.Figure()\n",
    "    fig.add_trace(go.Scatter(x=time, y=voltage, mode='lines', name='Voltage'))\n",
    "    fig.add_trace(go.Scatter(x=time, y=current, mode='lines', name='Current'))\n",
    "\n",
    "    title = f\"Sample #{idx}\"\n",
    "    if exp_ids is not None:\n",
    "        title += f\" | Experiment ID: {exp_ids[idx]}\"\n",
    "    if labels is not None:\n",
    "        title += f\" | Label: {labels[idx]}\"\n",
    "\n",
    "    fig.update_layout(\n",
    "        title=title,\n",
    "        xaxis_title='Time Step',\n",
    "        yaxis_title='Value',\n",
    "        legend=dict(x=0, y=1),\n",
    "        template='plotly_dark'\n",
    "    )\n",
    "\n",
    "    return fig\n"
   ],
   "outputs": [],
   "execution_count": 9
  },
  {
   "metadata": {
    "ExecuteTime": {
     "end_time": "2025-05-26T13:32:43.158297Z",
     "start_time": "2025-05-26T13:32:42.742142Z"
    }
   },
   "cell_type": "code",
   "source": [
    "# Beispiel: Funktion testen\n",
    "data, labels, exp_ids = get_welding_data(data_path, n_samples=100)\n",
    "\n",
    "# Erzeuge zufällige interaktive Visualisierung\n",
    "fig = create_plotly_plot(data, labels, exp_ids)\n",
    "\n",
    "# Speichern und anzeigen\n",
    "save_plotly_figure_as_html(fig, plot_path / \"welding_sample_random.html\")\n",
    "fig.show()\n"
   ],
   "outputs": [
    {
     "data": {
      "application/vnd.plotly.v1+json": {
       "data": [
        {
         "mode": "lines",
         "name": "Voltage",
         "x": {
          "dtype": "i2",
          "bdata": "AAABAAIAAwAEAAUABgAHAAgACQAKAAsADAANAA4ADwAQABEAEgATABQAFQAWABcAGAAZABoAGwAcAB0AHgAfACAAIQAiACMAJAAlACYAJwAoACkAKgArACwALQAuAC8AMAAxADIAMwA0ADUANgA3ADgAOQA6ADsAPAA9AD4APwBAAEEAQgBDAEQARQBGAEcASABJAEoASwBMAE0ATgBPAFAAUQBSAFMAVABVAFYAVwBYAFkAWgBbAFwAXQBeAF8AYABhAGIAYwBkAGUAZgBnAGgAaQBqAGsAbABtAG4AbwBwAHEAcgBzAHQAdQB2AHcAeAB5AHoAewB8AH0AfgB/AIAAgQCCAIMAhACFAIYAhwCIAIkAigCLAIwAjQCOAI8AkACRAJIAkwCUAJUAlgCXAJgAmQCaAJsAnACdAJ4AnwCgAKEAogCjAKQApQCmAKcAqACpAKoAqwCsAK0ArgCvALAAsQCyALMAtAC1ALYAtwC4ALkAugC7ALwAvQC+AL8AwADBAMIAwwDEAMUAxgDHAA=="
         },
         "y": {
          "dtype": "f8",
          "bdata": "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"
         },
         "type": "scatter"
        },
        {
         "mode": "lines",
         "name": "Current",
         "x": {
          "dtype": "i2",
          "bdata": "AAABAAIAAwAEAAUABgAHAAgACQAKAAsADAANAA4ADwAQABEAEgATABQAFQAWABcAGAAZABoAGwAcAB0AHgAfACAAIQAiACMAJAAlACYAJwAoACkAKgArACwALQAuAC8AMAAxADIAMwA0ADUANgA3ADgAOQA6ADsAPAA9AD4APwBAAEEAQgBDAEQARQBGAEcASABJAEoASwBMAE0ATgBPAFAAUQBSAFMAVABVAFYAVwBYAFkAWgBbAFwAXQBeAF8AYABhAGIAYwBkAGUAZgBnAGgAaQBqAGsAbABtAG4AbwBwAHEAcgBzAHQAdQB2AHcAeAB5AHoAewB8AH0AfgB/AIAAgQCCAIMAhACFAIYAhwCIAIkAigCLAIwAjQCOAI8AkACRAJIAkwCUAJUAlgCXAJgAmQCaAJsAnACdAJ4AnwCgAKEAogCjAKQApQCmAKcAqACpAKoAqwCsAK0ArgCvALAAsQCyALMAtAC1ALYAtwC4ALkAugC7ALwAvQC+AL8AwADBAMIAwwDEAMUAxgDHAA=="
         },
         "y": {
          "dtype": "f8",
          "bdata": "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"
         },
         "type": "scatter"
        }
       ],
       "layout": {
        "template": {
         "data": {
          "histogram2dcontour": [
           {
            "type": "histogram2dcontour",
            "colorbar": {
             "outlinewidth": 0,
             "ticks": ""
            },
            "colorscale": [
             [
              0.0,
              "#0d0887"
             ],
             [
              0.1111111111111111,
              "#46039f"
             ],
             [
              0.2222222222222222,
              "#7201a8"
             ],
             [
              0.3333333333333333,
              "#9c179e"
             ],
             [
              0.4444444444444444,
              "#bd3786"
             ],
             [
              0.5555555555555556,
              "#d8576b"
             ],
             [
              0.6666666666666666,
              "#ed7953"
             ],
             [
              0.7777777777777778,
              "#fb9f3a"
             ],
             [
              0.8888888888888888,
              "#fdca26"
             ],
             [
              1.0,
              "#f0f921"
             ]
            ]
           }
          ],
          "choropleth": [
           {
            "type": "choropleth",
            "colorbar": {
             "outlinewidth": 0,
             "ticks": ""
            }
           }
          ],
          "histogram2d": [
           {
            "type": "histogram2d",
            "colorbar": {
             "outlinewidth": 0,
             "ticks": ""
            },
            "colorscale": [
             [
              0.0,
              "#0d0887"
             ],
             [
              0.1111111111111111,
              "#46039f"
             ],
             [
              0.2222222222222222,
              "#7201a8"
             ],
             [
              0.3333333333333333,
              "#9c179e"
             ],
             [
              0.4444444444444444,
              "#bd3786"
             ],
             [
              0.5555555555555556,
              "#d8576b"
             ],
             [
              0.6666666666666666,
              "#ed7953"
             ],
             [
              0.7777777777777778,
              "#fb9f3a"
             ],
             [
              0.8888888888888888,
              "#fdca26"
             ],
             [
              1.0,
              "#f0f921"
             ]
            ]
           }
          ],
          "heatmap": [
           {
            "type": "heatmap",
            "colorbar": {
             "outlinewidth": 0,
             "ticks": ""
            },
            "colorscale": [
             [
              0.0,
              "#0d0887"
             ],
             [
              0.1111111111111111,
              "#46039f"
             ],
             [
              0.2222222222222222,
              "#7201a8"
             ],
             [
              0.3333333333333333,
              "#9c179e"
             ],
             [
              0.4444444444444444,
              "#bd3786"
             ],
             [
              0.5555555555555556,
              "#d8576b"
             ],
             [
              0.6666666666666666,
              "#ed7953"
             ],
             [
              0.7777777777777778,
              "#fb9f3a"
             ],
             [
              0.8888888888888888,
              "#fdca26"
             ],
             [
              1.0,
              "#f0f921"
             ]
            ]
           }
          ],
          "contourcarpet": [
           {
            "type": "contourcarpet",
            "colorbar": {
             "outlinewidth": 0,
             "ticks": ""
            }
           }
          ],
          "contour": [
           {
            "type": "contour",
            "colorbar": {
             "outlinewidth": 0,
             "ticks": ""
            },
            "colorscale": [
             [
              0.0,
              "#0d0887"
             ],
             [
              0.1111111111111111,
              "#46039f"
             ],
             [
              0.2222222222222222,
              "#7201a8"
             ],
             [
              0.3333333333333333,
              "#9c179e"
             ],
             [
              0.4444444444444444,
              "#bd3786"
             ],
             [
              0.5555555555555556,
              "#d8576b"
             ],
             [
              0.6666666666666666,
              "#ed7953"
             ],
             [
              0.7777777777777778,
              "#fb9f3a"
             ],
             [
              0.8888888888888888,
              "#fdca26"
             ],
             [
              1.0,
              "#f0f921"
             ]
            ]
           }
          ],
          "surface": [
           {
            "type": "surface",
            "colorbar": {
             "outlinewidth": 0,
             "ticks": ""
            },
            "colorscale": [
             [
              0.0,
              "#0d0887"
             ],
             [
              0.1111111111111111,
              "#46039f"
             ],
             [
              0.2222222222222222,
              "#7201a8"
             ],
             [
              0.3333333333333333,
              "#9c179e"
             ],
             [
              0.4444444444444444,
              "#bd3786"
             ],
             [
              0.5555555555555556,
              "#d8576b"
             ],
             [
              0.6666666666666666,
              "#ed7953"
             ],
             [
              0.7777777777777778,
              "#fb9f3a"
             ],
             [
              0.8888888888888888,
              "#fdca26"
             ],
             [
              1.0,
              "#f0f921"
             ]
            ]
           }
          ],
          "mesh3d": [
           {
            "type": "mesh3d",
            "colorbar": {
             "outlinewidth": 0,
             "ticks": ""
            }
           }
          ],
          "scatter": [
           {
            "marker": {
             "line": {
              "color": "#283442"
             }
            },
            "type": "scatter"
           }
          ],
          "parcoords": [
           {
            "type": "parcoords",
            "line": {
             "colorbar": {
              "outlinewidth": 0,
              "ticks": ""
             }
            }
           }
          ],
          "scatterpolargl": [
           {
            "type": "scatterpolargl",
            "marker": {
             "colorbar": {
              "outlinewidth": 0,
              "ticks": ""
             }
            }
           }
          ],
          "bar": [
           {
            "error_x": {
             "color": "#f2f5fa"
            },
            "error_y": {
             "color": "#f2f5fa"
            },
            "marker": {
             "line": {
              "color": "rgb(17,17,17)",
              "width": 0.5
             },
             "pattern": {
              "fillmode": "overlay",
              "size": 10,
              "solidity": 0.2
             }
            },
            "type": "bar"
           }
          ],
          "scattergeo": [
           {
            "type": "scattergeo",
            "marker": {
             "colorbar": {
              "outlinewidth": 0,
              "ticks": ""
             }
            }
           }
          ],
          "scatterpolar": [
           {
            "type": "scatterpolar",
            "marker": {
             "colorbar": {
              "outlinewidth": 0,
              "ticks": ""
             }
            }
           }
          ],
          "histogram": [
           {
            "marker": {
             "pattern": {
              "fillmode": "overlay",
              "size": 10,
              "solidity": 0.2
             }
            },
            "type": "histogram"
           }
          ],
          "scattergl": [
           {
            "marker": {
             "line": {
              "color": "#283442"
             }
            },
            "type": "scattergl"
           }
          ],
          "scatter3d": [
           {
            "type": "scatter3d",
            "line": {
             "colorbar": {
              "outlinewidth": 0,
              "ticks": ""
             }
            },
            "marker": {
             "colorbar": {
              "outlinewidth": 0,
              "ticks": ""
             }
            }
           }
          ],
          "scattermap": [
           {
            "type": "scattermap",
            "marker": {
             "colorbar": {
              "outlinewidth": 0,
              "ticks": ""
             }
            }
           }
          ],
          "scattermapbox": [
           {
            "type": "scattermapbox",
            "marker": {
             "colorbar": {
              "outlinewidth": 0,
              "ticks": ""
             }
            }
           }
          ],
          "scatterternary": [
           {
            "type": "scatterternary",
            "marker": {
             "colorbar": {
              "outlinewidth": 0,
              "ticks": ""
             }
            }
           }
          ],
          "scattercarpet": [
           {
            "type": "scattercarpet",
            "marker": {
             "colorbar": {
              "outlinewidth": 0,
              "ticks": ""
             }
            }
           }
          ],
          "carpet": [
           {
            "aaxis": {
             "endlinecolor": "#A2B1C6",
             "gridcolor": "#506784",
             "linecolor": "#506784",
             "minorgridcolor": "#506784",
             "startlinecolor": "#A2B1C6"
            },
            "baxis": {
             "endlinecolor": "#A2B1C6",
             "gridcolor": "#506784",
             "linecolor": "#506784",
             "minorgridcolor": "#506784",
             "startlinecolor": "#A2B1C6"
            },
            "type": "carpet"
           }
          ],
          "table": [
           {
            "cells": {
             "fill": {
              "color": "#506784"
             },
             "line": {
              "color": "rgb(17,17,17)"
             }
            },
            "header": {
             "fill": {
              "color": "#2a3f5f"
             },
             "line": {
              "color": "rgb(17,17,17)"
             }
            },
            "type": "table"
           }
          ],
          "barpolar": [
           {
            "marker": {
             "line": {
              "color": "rgb(17,17,17)",
              "width": 0.5
             },
             "pattern": {
              "fillmode": "overlay",
              "size": 10,
              "solidity": 0.2
             }
            },
            "type": "barpolar"
           }
          ],
          "pie": [
           {
            "automargin": true,
            "type": "pie"
           }
          ]
         },
         "layout": {
          "autotypenumbers": "strict",
          "colorway": [
           "#636efa",
           "#EF553B",
           "#00cc96",
           "#ab63fa",
           "#FFA15A",
           "#19d3f3",
           "#FF6692",
           "#B6E880",
           "#FF97FF",
           "#FECB52"
          ],
          "font": {
           "color": "#f2f5fa"
          },
          "hovermode": "closest",
          "hoverlabel": {
           "align": "left"
          },
          "paper_bgcolor": "rgb(17,17,17)",
          "plot_bgcolor": "rgb(17,17,17)",
          "polar": {
           "bgcolor": "rgb(17,17,17)",
           "angularaxis": {
            "gridcolor": "#506784",
            "linecolor": "#506784",
            "ticks": ""
           },
           "radialaxis": {
            "gridcolor": "#506784",
            "linecolor": "#506784",
            "ticks": ""
           }
          },
          "ternary": {
           "bgcolor": "rgb(17,17,17)",
           "aaxis": {
            "gridcolor": "#506784",
            "linecolor": "#506784",
            "ticks": ""
           },
           "baxis": {
            "gridcolor": "#506784",
            "linecolor": "#506784",
            "ticks": ""
           },
           "caxis": {
            "gridcolor": "#506784",
            "linecolor": "#506784",
            "ticks": ""
           }
          },
          "coloraxis": {
           "colorbar": {
            "outlinewidth": 0,
            "ticks": ""
           }
          },
          "colorscale": {
           "sequential": [
            [
             0.0,
             "#0d0887"
            ],
            [
             0.1111111111111111,
             "#46039f"
            ],
            [
             0.2222222222222222,
             "#7201a8"
            ],
            [
             0.3333333333333333,
             "#9c179e"
            ],
            [
             0.4444444444444444,
             "#bd3786"
            ],
            [
             0.5555555555555556,
             "#d8576b"
            ],
            [
             0.6666666666666666,
             "#ed7953"
            ],
            [
             0.7777777777777778,
             "#fb9f3a"
            ],
            [
             0.8888888888888888,
             "#fdca26"
            ],
            [
             1.0,
             "#f0f921"
            ]
           ],
           "sequentialminus": [
            [
             0.0,
             "#0d0887"
            ],
            [
             0.1111111111111111,
             "#46039f"
            ],
            [
             0.2222222222222222,
             "#7201a8"
            ],
            [
             0.3333333333333333,
             "#9c179e"
            ],
            [
             0.4444444444444444,
             "#bd3786"
            ],
            [
             0.5555555555555556,
             "#d8576b"
            ],
            [
             0.6666666666666666,
             "#ed7953"
            ],
            [
             0.7777777777777778,
             "#fb9f3a"
            ],
            [
             0.8888888888888888,
             "#fdca26"
            ],
            [
             1.0,
             "#f0f921"
            ]
           ],
           "diverging": [
            [
             0,
             "#8e0152"
            ],
            [
             0.1,
             "#c51b7d"
            ],
            [
             0.2,
             "#de77ae"
            ],
            [
             0.3,
             "#f1b6da"
            ],
            [
             0.4,
             "#fde0ef"
            ],
            [
             0.5,
             "#f7f7f7"
            ],
            [
             0.6,
             "#e6f5d0"
            ],
            [
             0.7,
             "#b8e186"
            ],
            [
             0.8,
             "#7fbc41"
            ],
            [
             0.9,
             "#4d9221"
            ],
            [
             1,
             "#276419"
            ]
           ]
          },
          "xaxis": {
           "gridcolor": "#283442",
           "linecolor": "#506784",
           "ticks": "",
           "title": {
            "standoff": 15
           },
           "zerolinecolor": "#283442",
           "automargin": true,
           "zerolinewidth": 2
          },
          "yaxis": {
           "gridcolor": "#283442",
           "linecolor": "#506784",
           "ticks": "",
           "title": {
            "standoff": 15
           },
           "zerolinecolor": "#283442",
           "automargin": true,
           "zerolinewidth": 2
          },
          "scene": {
           "xaxis": {
            "backgroundcolor": "rgb(17,17,17)",
            "gridcolor": "#506784",
            "linecolor": "#506784",
            "showbackground": true,
            "ticks": "",
            "zerolinecolor": "#C8D4E3",
            "gridwidth": 2
           },
           "yaxis": {
            "backgroundcolor": "rgb(17,17,17)",
            "gridcolor": "#506784",
            "linecolor": "#506784",
            "showbackground": true,
            "ticks": "",
            "zerolinecolor": "#C8D4E3",
            "gridwidth": 2
           },
           "zaxis": {
            "backgroundcolor": "rgb(17,17,17)",
            "gridcolor": "#506784",
            "linecolor": "#506784",
            "showbackground": true,
            "ticks": "",
            "zerolinecolor": "#C8D4E3",
            "gridwidth": 2
           }
          },
          "shapedefaults": {
           "line": {
            "color": "#f2f5fa"
           }
          },
          "annotationdefaults": {
           "arrowcolor": "#f2f5fa",
           "arrowhead": 0,
           "arrowwidth": 1
          },
          "geo": {
           "bgcolor": "rgb(17,17,17)",
           "landcolor": "rgb(17,17,17)",
           "subunitcolor": "#506784",
           "showland": true,
           "showlakes": true,
           "lakecolor": "rgb(17,17,17)"
          },
          "title": {
           "x": 0.05
          },
          "updatemenudefaults": {
           "bgcolor": "#506784",
           "borderwidth": 0
          },
          "sliderdefaults": {
           "bgcolor": "#C8D4E3",
           "borderwidth": 1,
           "bordercolor": "rgb(17,17,17)",
           "tickwidth": 0
          },
          "mapbox": {
           "style": "dark"
          }
         }
        },
        "legend": {
         "x": 0,
         "y": 1
        },
        "title": {
         "text": "Sample #14 | Experiment ID: 3 | Label: 1"
        },
        "xaxis": {
         "title": {
          "text": "Time Step"
         }
        },
        "yaxis": {
         "title": {
          "text": "Value"
         }
        }
       },
       "config": {
        "plotlyServerURL": "https://plot.ly"
       }
      }
     },
     "metadata": {},
     "output_type": "display_data"
    }
   ],
   "execution_count": 10
  },
  {
   "cell_type": "markdown",
   "metadata": {},
   "source": [
    "## Exercise 2.5: Multiple Sample Comparison\n",
    "\n",
    "In this exercise, we'll generate and compare visualizations from multiple random welding samples. This comparison will help us identify common patterns and variations across different welding cycles.\n",
    " \n",
    "\n",
    "1. Generate multiple random sample visualizations using matplotlib of single welding cycles\n",
    "2. Create dual-axis plots showing voltage and current over time\n",
    "3. Implement clear legends and labels for data interpretation\n",
    "4. Save each visualization for comparison"
   ]
  },
  {
   "cell_type": "code",
   "metadata": {
    "ExecuteTime": {
     "end_time": "2025-05-26T13:32:43.391777Z",
     "start_time": "2025-05-26T13:32:43.194919Z"
    }
   },
   "source": [
    "data, labels, exp_ids = get_welding_data(data_path, n_samples=1_000)"
   ],
   "outputs": [],
   "execution_count": 11
  },
  {
   "cell_type": "code",
   "metadata": {
    "ExecuteTime": {
     "end_time": "2025-05-26T13:32:43.677274Z",
     "start_time": "2025-05-26T13:32:43.412474Z"
    }
   },
   "source": [
    "for i in range(5):\n",
    "    plot_random_sample(data, labels, save_path=plot_path / f\"welding_sample_{i}.png\")\n",
    "    "
   ],
   "outputs": [
    {
     "ename": "NameError",
     "evalue": "name 'plot_random_sample' is not defined",
     "output_type": "error",
     "traceback": [
      "\u001B[0;31m---------------------------------------------------------------------------\u001B[0m",
      "\u001B[0;31mNameError\u001B[0m                                 Traceback (most recent call last)",
      "Cell \u001B[0;32mIn[12], line 2\u001B[0m\n\u001B[1;32m      1\u001B[0m \u001B[38;5;28;01mfor\u001B[39;00m i \u001B[38;5;129;01min\u001B[39;00m \u001B[38;5;28mrange\u001B[39m(\u001B[38;5;241m5\u001B[39m):\n\u001B[0;32m----> 2\u001B[0m     \u001B[43mplot_random_sample\u001B[49m(data, labels, save_path\u001B[38;5;241m=\u001B[39mplot_path \u001B[38;5;241m/\u001B[39m \u001B[38;5;124mf\u001B[39m\u001B[38;5;124m\"\u001B[39m\u001B[38;5;124mwelding_sample_\u001B[39m\u001B[38;5;132;01m{\u001B[39;00mi\u001B[38;5;132;01m}\u001B[39;00m\u001B[38;5;124m.png\u001B[39m\u001B[38;5;124m\"\u001B[39m)\n",
      "\u001B[0;31mNameError\u001B[0m: name 'plot_random_sample' is not defined"
     ]
    }
   ],
   "execution_count": 12
  },
  {
   "cell_type": "code",
   "metadata": {
    "ExecuteTime": {
     "end_time": "2025-05-26T13:32:43.693478501Z",
     "start_time": "2025-05-26T12:42:43.512935Z"
    }
   },
   "source": [
    "def plot_random_sample(data: np.ndarray, labels: np.ndarray, save_path: Path = None) -> None:\n",
    "    \"\"\"\n",
    "    Plots a random welding sample (voltage and current) and saves it as a PNG file.\n",
    "\n",
    "    Args:\n",
    "        data (np.ndarray): Welding data array (shape: [n_samples, n_timesteps, 2])\n",
    "        labels (np.ndarray): Array of class labels\n",
    "        save_path (Path, optional): Path to save the figure. If None, the plot is shown instead.\n",
    "    \"\"\"\n",
    "    # Zufällige Probe wählen\n",
    "    idx = random.randint(0, data.shape[0] - 1)\n",
    "    sample = data[idx]\n",
    "    voltage = sample[:, 0]\n",
    "    current = sample[:, 1]\n",
    "    time = np.arange(len(voltage))\n",
    "\n",
    "    # Plot erstellen\n",
    "    plt.figure(figsize=(10, 5))\n",
    "    plt.plot(time, voltage, label=\"Voltage\", color=\"tab:blue\")\n",
    "    plt.plot(time, current, label=\"Current\", color=\"tab:orange\")\n",
    "    plt.title(f\"Random Welding Sample #{idx} | Label: {labels[idx]}\")\n",
    "    plt.xlabel(\"Time Step\")\n",
    "    plt.ylabel(\"Value\")\n",
    "    plt.legend()\n",
    "    plt.tight_layout()\n",
    "\n",
    "    # Speichern oder anzeigen\n",
    "    if save_path:\n",
    "        plt.savefig(save_path)\n",
    "        plt.close()\n",
    "    else:\n",
    "        plt.show()\n"
   ],
   "outputs": [],
   "execution_count": 35
  }
 ],
 "metadata": {
  "kernelspec": {
   "display_name": ".venv",
   "language": "python",
   "name": "python3"
  },
  "language_info": {
   "codemirror_mode": {
    "name": "ipython",
    "version": 3
   },
   "file_extension": ".py",
   "mimetype": "text/x-python",
   "name": "python",
   "nbconvert_exporter": "python",
   "pygments_lexer": "ipython3",
   "version": "3.13.2"
  }
 },
 "nbformat": 4,
 "nbformat_minor": 2
}
