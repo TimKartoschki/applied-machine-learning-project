{
 "cells": [
  {
   "cell_type": "code",
   "metadata": {
    "ExecuteTime": {
     "end_time": "2025-05-24T12:36:31.068148Z",
     "start_time": "2025-05-24T12:36:31.060442Z"
    }
   },
   "source": [
    "import numpy as np\n",
    "import pandas as pd\n",
    "from pathlib import Path\n",
    "from matplotlib import pyplot as plt\n",
    "from plotly.offline import plot\n",
    "\n",
    "import plotly.express as px\n",
    "import plotly.graph_objects as go\n",
    "from plotly.subplots import make_subplots\n",
    "\n",
    "from utils import save_plotly_figure_as_html\n",
    "from ex_01_read_data import get_welding_data\n",
    "\n"
   ],
   "outputs": [],
   "execution_count": 36
  },
  {
   "cell_type": "code",
   "metadata": {
    "ExecuteTime": {
     "end_time": "2025-05-24T12:36:31.108276Z",
     "start_time": "2025-05-24T12:36:31.100398Z"
    }
   },
   "source": [
    "data_path = Path(\"data/Welding/data.csv\")\n",
    "plot_path = Path(\"plots/ex_02\")"
   ],
   "outputs": [],
   "execution_count": 37
  },
  {
   "cell_type": "markdown",
   "metadata": {},
   "source": [
    "## Exercise 2.1: Dataset Statistics Analysis\n",
    "\n",
    "In this exercise, we'll calculate and present comprehensive descriptive statistics for the welding dataset. This statistical overview will help us understand the fundamental characteristics of our data before visualization or modeling.\n",
    "\n",
    "1. Calculate the class distribution to understand data balance\n",
    "2. Count samples per experiment to assess data volume across experimental conditions\n",
    "3. Determine min/max values for voltage and current to understand the range of measurements\n",
    "4. Calculate mean and standard deviation to assess central tendency and variability\n",
    "5. Find median values to identify central points unaffected by outliers"
   ]
  },
  {
   "cell_type": "code",
   "metadata": {
    "ExecuteTime": {
     "end_time": "2025-05-24T12:36:31.332201Z",
     "start_time": "2025-05-24T12:36:31.153694Z"
    }
   },
   "source": [
    "data, labels, exp_ids = get_welding_data(data_path)"
   ],
   "outputs": [],
   "execution_count": 38
  },
  {
   "cell_type": "code",
   "metadata": {
    "ExecuteTime": {
     "end_time": "2025-05-24T12:36:32.787464Z",
     "start_time": "2025-05-24T12:36:31.369368Z"
    }
   },
   "source": [
    "# Class Distribution\n",
    "class_counts = pd.Series(labels).value_counts().sort_index()\n",
    "print(\"Class distribution:\\n\", class_counts)\n",
    "\n",
    "# Count samples Experiment\n",
    "experiment_counts = pd.Series(exp_ids).value_counts().sort_index()\n",
    "print(\"\\nSamples per experiment:\\n\", experiment_counts)\n",
    "\n",
    "# Determine min max vlaues\n",
    "voltage_cols = np.arange(0, data.shape[1], 2)\n",
    "current_cols = np.arange(1, data.shape[1], 2)\n",
    "\n",
    "voltages = data[:, voltage_cols]\n",
    "currents = data[:, current_cols]\n",
    "\n",
    "# Statistiken\n",
    "print(\"\\nVoltage statistics:\")\n",
    "print(f\"Min: {voltages.min():.2f}, Max: {voltages.max():.2f}\")\n",
    "print(f\"Mean: {voltages.mean():.2f}, Std: {voltages.std():.2f}, Median: {np.median(voltages):.2f}\")\n",
    "\n",
    "print(\"\\nCurrent statistics:\")\n",
    "print(f\"Min: {currents.min():.2f}, Max: {currents.max():.2f}\")\n",
    "print(f\"Mean: {currents.mean():.2f}, Std: {currents.std():.2f}, Median: {np.median(currents):.2f}\")\n",
    "\n"
   ],
   "outputs": [
    {
     "name": "stdout",
     "output_type": "stream",
     "text": [
      "Class distribution:\n",
      " 0    90746\n",
      "1    67219\n",
      "Name: count, dtype: int64\n",
      "\n",
      "Samples per experiment:\n",
      " 1    35521\n",
      "2    17913\n",
      "3    46768\n",
      "4    57763\n",
      "Name: count, dtype: int64\n",
      "\n",
      "Voltage statistics:\n",
      "Min: -1.17, Max: 614.15\n",
      "Mean: 97.75, Std: 148.67, Median: 30.08\n",
      "\n",
      "Current statistics:\n",
      "Min: -1.18, Max: 613.79\n",
      "Mean: 97.74, Std: 148.67, Median: 30.08\n"
     ]
    }
   ],
   "execution_count": 39
  },
  {
   "cell_type": "markdown",
   "metadata": {},
   "source": [
    "## Exercise 2.2: Current and Voltage Distribution Visualization\n",
    "\n",
    "In this exercise, we'll create interactive boxplots to visualize and compare the distributions of voltage and current measurements in the welding data. Boxplots will help us identify central tendencies, spread, and potential outliers in our measurements.\n",
    "\n",
    "1. Create side-by-side boxplots for voltage and current using Plotly\n",
    "2. Display key statistics (median, quartiles, etc.) in a visual format in the plot\n",
    "3. Enable interactive exploration of the distributions\n",
    "4. Save the visualization for future reference"
   ]
  },
  {
   "cell_type": "code",
   "metadata": {
    "ExecuteTime": {
     "end_time": "2025-05-24T12:36:33.017214Z",
     "start_time": "2025-05-24T12:36:32.804481Z"
    }
   },
   "source": [
    "data, labels, exp_ids = get_welding_data(data_path, n_samples=10)\n",
    "\n",
    "save_path =  plot_path / \"voltage_current_distribution\""
   ],
   "outputs": [],
   "execution_count": 40
  },
  {
   "cell_type": "code",
   "metadata": {
    "ExecuteTime": {
     "end_time": "2025-05-24T12:36:33.276506Z",
     "start_time": "2025-05-24T12:36:33.041415Z"
    }
   },
   "source": [
    "# Select voltage and current columns\n",
    "voltage_cols = np.arange(0, data.shape[1], 2)\n",
    "current_cols = np.arange(1, data.shape[1], 2)\n",
    "\n",
    "voltages = data[:, voltage_cols].flatten()\n",
    "currents = data[:, current_cols].flatten()\n",
    "\n",
    "# Create a DataFrame for plotting\n",
    "df_plot = pd.DataFrame({\n",
    "    \"Voltage\": voltages,\n",
    "    \"Current\": currents\n",
    "})\n",
    "\n",
    "# Melt the DataFrame to long format for Plotly\n",
    "df_melted = df_plot.melt(var_name='Measurement Type', value_name='Value')\n",
    "\n",
    "# Create boxplot\n",
    "fig = px.box(df_melted, x='Measurement Type', y='Value', points='all', title=\"Voltage and Current Distributions\")\n",
    "\n",
    "# Show interactive plot\n",
    "plot(fig)\n",
    "\n",
    "# Save to HTML\n",
    "save_plotly_figure_as_html(fig, save_path)\n"
   ],
   "outputs": [],
   "execution_count": 41
  },
  {
   "cell_type": "markdown",
   "metadata": {},
   "source": [
    "## Exercise 2.3: Time-Series Sequence Visualization\n",
    "\n",
    "In this exercise, we'll implement functions to visualize the time-series patterns of welding cycles. These visualizations will help us understand the temporal relationships between voltage and current during the welding process and identify patterns associated with quality outcomes.\n",
    "\n",
    "1. Create dual-axis plots showing voltage and current over time (10 welding cycles -> sequence_length=10) using matplotlib\n",
    "2. Implement clear legends and labels for data interpretation\n",
    "3. Enable saving of visualizations for reporting and comparison"
   ]
  },
  {
   "cell_type": "code",
   "metadata": {
    "ExecuteTime": {
     "end_time": "2025-05-24T12:36:33.518730Z",
     "start_time": "2025-05-24T12:36:33.301898Z"
    }
   },
   "source": [
    "\n",
    "data, labels, exp_ids = get_welding_data(data_path, n_samples=100, return_sequences=True, sequence_length=10)\n",
    "save_path = plot_path / \"welding_sample.png\"    "
   ],
   "outputs": [],
   "execution_count": 42
  },
  {
   "cell_type": "code",
   "metadata": {
    "ExecuteTime": {
     "end_time": "2025-05-24T12:36:33.867354Z",
     "start_time": "2025-05-24T12:36:33.547066Z"
    }
   },
   "source": "",
   "outputs": [
    {
     "ename": "NameError",
     "evalue": "name 'n_plots' is not defined",
     "output_type": "error",
     "traceback": [
      "\u001B[0;31m---------------------------------------------------------------------------\u001B[0m",
      "\u001B[0;31mNameError\u001B[0m                                 Traceback (most recent call last)",
      "Cell \u001B[0;32mIn[43], line 1\u001B[0m\n\u001B[0;32m----> 1\u001B[0m fig, axes \u001B[38;5;241m=\u001B[39m plt\u001B[38;5;241m.\u001B[39msubplots(\u001B[43mn_plots\u001B[49m, \u001B[38;5;241m1\u001B[39m, figsize\u001B[38;5;241m=\u001B[39m(\u001B[38;5;241m12\u001B[39m, \u001B[38;5;241m3\u001B[39m \u001B[38;5;241m*\u001B[39m n_plots), sharex\u001B[38;5;241m=\u001B[39m\u001B[38;5;28;01mTrue\u001B[39;00m)\n\u001B[1;32m      3\u001B[0m \u001B[38;5;28;01mif\u001B[39;00m n_plots \u001B[38;5;241m==\u001B[39m \u001B[38;5;241m1\u001B[39m:\n\u001B[1;32m      4\u001B[0m     axes \u001B[38;5;241m=\u001B[39m [axes]  \u001B[38;5;66;03m# ensure iterable\u001B[39;00m\n",
      "\u001B[0;31mNameError\u001B[0m: name 'n_plots' is not defined"
     ]
    }
   ],
   "execution_count": 43
  },
  {
   "cell_type": "markdown",
   "metadata": {},
   "source": [
    "## Exercise 2.4: Interactive Time-Series Visualization with Plotly\n",
    "\n",
    "In this exercise, we'll create enhanced interactive visualizations of welding samples using Plotly. These interactive plots will provide more advanced exploration capabilities for analyzing the time-series patterns.\n",
    "\n",
    "1. Create interactive plots with dual y-axes for voltage and current\n",
    "2. Implement time-based range sliders for detailed exploration\n",
    "3. Add unified tooltips for precise data reading\n",
    "4. Display quality metrics in the plot title\n",
    "5. Save interactive visualizations as HTML for sharing"
   ]
  },
  {
   "cell_type": "code",
   "metadata": {
    "ExecuteTime": {
     "end_time": "2025-05-24T12:36:33.871620606Z",
     "start_time": "2025-05-24T12:29:53.725640Z"
    }
   },
   "source": [
    "def create_plotly_plot(data: np.ndarray, labels: np.ndarray, exp_ids: np.ndarray = None) -> go.Figure:\n",
    "    \"\"\"\n",
    "    Create an interactive Plotly visualization of a random welding sample.\n",
    "\n",
    "    Args:\n",
    "        data (np.ndarray): Array containing voltage and current data\n",
    "        labels (np.ndarray): Array containing class labels\n",
    "        exp_ids (np.ndarray, optional): Array containing experiment IDs. Defaults to None.\n",
    "\n",
    "    Returns:\n",
    "        plotly.graph_objects.Figure: Interactive Plotly figure object\n",
    "    \"\"\"\n",
    "    pass\n",
    "\n",
    "\n",
    "fig = create_plotly_plot(data, labels, exp_ids)\n",
    "save_plotly_figure_as_html(fig, plot_path / \"welding_samples\")\n",
    "fig.show()"
   ],
   "outputs": [
    {
     "ename": "AttributeError",
     "evalue": "'NoneType' object has no attribute 'write_html'",
     "output_type": "error",
     "traceback": [
      "\u001B[0;31m---------------------------------------------------------------------------\u001B[0m",
      "\u001B[0;31mAttributeError\u001B[0m                            Traceback (most recent call last)",
      "Cell \u001B[0;32mIn[18], line 17\u001B[0m\n\u001B[1;32m     13\u001B[0m     \u001B[38;5;28;01mpass\u001B[39;00m\n\u001B[1;32m     16\u001B[0m fig \u001B[38;5;241m=\u001B[39m create_plotly_plot(data, labels, exp_ids)\n\u001B[0;32m---> 17\u001B[0m \u001B[43msave_plotly_figure_as_html\u001B[49m\u001B[43m(\u001B[49m\u001B[43mfig\u001B[49m\u001B[43m,\u001B[49m\u001B[43m \u001B[49m\u001B[43mplot_path\u001B[49m\u001B[43m \u001B[49m\u001B[38;5;241;43m/\u001B[39;49m\u001B[43m \u001B[49m\u001B[38;5;124;43m\"\u001B[39;49m\u001B[38;5;124;43mwelding_samples\u001B[39;49m\u001B[38;5;124;43m\"\u001B[39;49m\u001B[43m)\u001B[49m\n\u001B[1;32m     18\u001B[0m fig\u001B[38;5;241m.\u001B[39mshow()\n",
      "File \u001B[0;32m~/Uni/Informatik/AML (Applied Machine Learning)/Code/utils.py:24\u001B[0m, in \u001B[0;36msave_plotly_figure_as_html\u001B[0;34m(fig, filename_path)\u001B[0m\n\u001B[1;32m     21\u001B[0m     filename_path \u001B[38;5;241m=\u001B[39m filename_path\u001B[38;5;241m.\u001B[39mwith_suffix(\u001B[38;5;124m'\u001B[39m\u001B[38;5;124m.html\u001B[39m\u001B[38;5;124m'\u001B[39m)\n\u001B[1;32m     23\u001B[0m \u001B[38;5;66;03m# Save the figure\u001B[39;00m\n\u001B[0;32m---> 24\u001B[0m \u001B[43mfig\u001B[49m\u001B[38;5;241;43m.\u001B[39;49m\u001B[43mwrite_html\u001B[49m(filename_path)\n",
      "\u001B[0;31mAttributeError\u001B[0m: 'NoneType' object has no attribute 'write_html'"
     ]
    }
   ],
   "execution_count": 18
  },
  {
   "cell_type": "markdown",
   "metadata": {},
   "source": [
    "## Exercise 2.5: Multiple Sample Comparison\n",
    "\n",
    "In this exercise, we'll generate and compare visualizations from multiple random welding samples. This comparison will help us identify common patterns and variations across different welding cycles.\n",
    " \n",
    "\n",
    "1. Generate multiple random sample visualizations using matplotlib of single welding cycles\n",
    "2. Create dual-axis plots showing voltage and current over time\n",
    "3. Implement clear legends and labels for data interpretation\n",
    "4. Save each visualization for comparison"
   ]
  },
  {
   "cell_type": "code",
   "execution_count": null,
   "metadata": {},
   "outputs": [],
   "source": [
    "data, labels, exp_ids = get_welding_data(data_path, n_samples=1_000)"
   ]
  },
  {
   "cell_type": "code",
   "execution_count": null,
   "metadata": {},
   "outputs": [],
   "source": [
    "for i in range(5):\n",
    "    plot_random_sample(data, labels, save_path=plot_path / f\"welding_sample_{i}.png\")\n",
    "    "
   ]
  },
  {
   "cell_type": "code",
   "execution_count": null,
   "metadata": {},
   "outputs": [],
   "source": []
  }
 ],
 "metadata": {
  "kernelspec": {
   "display_name": ".venv",
   "language": "python",
   "name": "python3"
  },
  "language_info": {
   "codemirror_mode": {
    "name": "ipython",
    "version": 3
   },
   "file_extension": ".py",
   "mimetype": "text/x-python",
   "name": "python",
   "nbconvert_exporter": "python",
   "pygments_lexer": "ipython3",
   "version": "3.13.2"
  }
 },
 "nbformat": 4,
 "nbformat_minor": 2
}
