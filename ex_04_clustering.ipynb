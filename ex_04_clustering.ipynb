{
 "cells": [
  {
   "cell_type": "code",
   "execution_count": 1,
   "metadata": {},
   "outputs": [],
   "source": [
    "import numpy as np\n",
    "import pandas as pd\n",
    "from pathlib import Path\n",
    "from matplotlib import pyplot as plt\n",
    "from plotly.offline import plot\n",
    "import plotly.express as px\n",
    "import seaborn as sns\n",
    "\n",
    "from sklearn.preprocessing import MinMaxScaler\n",
    "from sklearn.cluster import KMeans, DBSCAN\n",
    "from sklearn.metrics import adjusted_rand_score\n",
    "from sklearn.decomposition import PCA\n",
    "from sklearn.ensemble import RandomForestClassifier\n",
    "from sklearn.metrics import adjusted_rand_score\n",
    "\n",
    "from utils import save_plotly_figure_as_html\n",
    "from ex_01_read_data import get_welding_data\n",
    "from ex_03_feature_extraction import extract_features\n",
    "from ex_04_my_kmeans import MyKMeans\n"
   ]
  },
  {
   "cell_type": "code",
   "execution_count": null,
   "metadata": {},
   "outputs": [],
   "source": [
    "data_path = Path(\"data/Welding/data.csv\")\n",
    "plot_path = Path(\"plots/ex_04\")\n",
    "plot_path.mkdir(parents=True, exist_ok=True)\n",
    "\n",
    "\n",
    "data, labels, exp_ids = get_welding_data(data_path, n_samples=5_000)"
   ]
  },
  {
   "cell_type": "markdown",
   "metadata": {},
   "source": [
    "## Exercise 4.2: Optimal Cluster Selection\n",
    "\n",
    "Implement the elbow method to find the optimal number of clusters for the raw time series data using your implement of the kmeans algorithm (MyKMeans).\n",
    "\n",
    "1. Calculate the distortion (inertia) for different values of k (1 to 10)\n",
    "2. Plot the results to identify the \"elbow point\" with matplotlib where adding more clusters produces diminishing returns\n",
    "3. This will help determine the most appropriate number of clusters for our welding data"
   ]
  },
  {
   "cell_type": "code",
   "metadata": {
    "ExecuteTime": {
     "end_time": "2025-05-26T13:41:58.147613Z",
     "start_time": "2025-05-26T13:41:58.143697Z"
    }
   },
   "source": [
    "def elbow_method(X, max_clusters=10, distance_metric=\"euclidean\"):\n",
    "    \"\"\"\n",
    "    Apply the elbow method to find the optimal number of clusters.\n",
    "\n",
    "    Args:\n",
    "        X (np.ndarray): Feature matrix (unscaled or scaled)\n",
    "        max_clusters (int): Max number of clusters to evaluate\n",
    "        distance_metric (str): Distance metric used in MyKMeans\n",
    "    \"\"\"\n",
    "    distortions = []\n",
    "\n",
    "    # Normiere die Daten für stabilere Ergebnisse\n",
    "    scaler = MinMaxScaler()\n",
    "    X_scaled = scaler.fit_transform(X.reshape(X.shape[0], -1))  # flatten time series per sample\n",
    "\n",
    "    for k in range(1, max_clusters + 1):\n",
    "        kmeans = MyKMeans(n_clusters=k, distance_metric=distance_metric)\n",
    "        kmeans.fit(X_scaled)\n",
    "        distortions.append(kmeans.inertia_)\n",
    "\n",
    "    # Plot erzeugen\n",
    "    plt.figure(figsize=(8, 5))\n",
    "    plt.plot(range(1, max_clusters + 1), distortions, marker='o', linestyle='-')\n",
    "    plt.title(\"Elbow Method for Optimal k\")\n",
    "    plt.xlabel(\"Number of Clusters (k)\")\n",
    "    plt.ylabel(\"Distortion (Inertia)\")\n",
    "    plt.xticks(range(1, max_clusters + 1))\n",
    "    plt.grid(True)\n",
    "    plt.tight_layout()\n",
    "    plt.savefig(plot_path / \"elbow_method.png\")\n",
    "    plt.show()\n"
   ],
   "outputs": [],
   "execution_count": 1
  },
  {
   "cell_type": "markdown",
   "metadata": {},
   "source": [
    "## Exercise 4.3: Clustering with MyKMeans\n",
    "\n",
    "### Based on the elbow curve above, explain your choice of k:\n",
    "\n",
    "1. What does the shape of the elbow curve tell you about the underlying data structure?\n",
    "2. Why did you select this specific number of clusters?\n",
    "   - Consider the plot and the elbow method to justify your choice\n",
    "   - How might this choice affect the interpretability of the resulting clusters?\n",
    "\n",
    "### KMeans with euclidean distance and dtw distance\n",
    "1. run K means with you selected k \n"
   ]
  },
  {
   "cell_type": "code",
   "execution_count": null,
   "metadata": {},
   "outputs": [],
   "source": ""
  },
  {
   "cell_type": "markdown",
   "metadata": {},
   "source": [
    "## Exercise 4.4: Cluster Visualization\n",
    "\n",
    "Plot the mean time series (centroids) for each cluster to visualize and understand the patterns.\n",
    "\n",
    "Remember that our welding data has both current and voltage measurements over time (shape: n_samples, sequence_length, features). For each cluster:\n",
    "1. Plot the average current pattern\n",
    "2. Plot the average voltage pattern\n",
    "3. Look for distinctive characteristics in each cluster that might relate to welding quality\n",
    "\n",
    "This visualization will help identify what makes each cluster unique in terms of temporal patterns."
   ]
  },
  {
   "cell_type": "code",
   "execution_count": null,
   "metadata": {},
   "outputs": [],
   "source": []
  },
  {
   "cell_type": "markdown",
   "metadata": {},
   "source": [
    "## Exercise 4.5: Feature-Based Clustering\n",
    "\n",
    "Now we'll use the engineered features extracted in Exercise 3 instead of raw time series data. Therefore, you can use the euclidean distance metric.\n",
    "\n",
    "1. Load your extracted features from exercise 3 \n",
    "2. Split them into data and labels\n",
    "3. Scale the data for better clustering performance\n",
    "4. Apply the elbow method again to determine the optimal number of clusters for the feature-based approach\n",
    "5. Compare this result with the clustering of raw time series data. Consider why the optimal k might differ between the two approaches:\n",
    "   - Do engineered features represent the data differently?\n",
    "   - Which approach might better capture the relevant patterns for quality assessment?\n"
   ]
  },
  {
   "cell_type": "code",
   "metadata": {
    "ExecuteTime": {
     "end_time": "2025-05-26T13:44:32.261700Z",
     "start_time": "2025-05-26T13:44:32.234678Z"
    }
   },
   "source": [
    "features = extract_features(data, labels)\n",
    "\n",
    "X_features = features.drop(columns=[\"label\"]).values\n",
    "y_labels = features[\"label\"].values\n",
    "\n",
    "# 3. Skaliere die Merkmalsdaten\n",
    "scaler = MinMaxScaler()\n",
    "X_scaled = scaler.fit_transform(X_features)\n",
    "\n",
    "elbow_method(X_scaled)"
   ],
   "outputs": [
    {
     "ename": "NameError",
     "evalue": "name 'extract_features' is not defined",
     "output_type": "error",
     "traceback": [
      "\u001B[0;31m---------------------------------------------------------------------------\u001B[0m",
      "\u001B[0;31mNameError\u001B[0m                                 Traceback (most recent call last)",
      "Cell \u001B[0;32mIn[5], line 1\u001B[0m\n\u001B[0;32m----> 1\u001B[0m features \u001B[38;5;241m=\u001B[39m \u001B[43mextract_features\u001B[49m(data, labels)\n\u001B[1;32m      3\u001B[0m X_features \u001B[38;5;241m=\u001B[39m features\u001B[38;5;241m.\u001B[39mdrop(columns\u001B[38;5;241m=\u001B[39m[\u001B[38;5;124m\"\u001B[39m\u001B[38;5;124mlabel\u001B[39m\u001B[38;5;124m\"\u001B[39m])\u001B[38;5;241m.\u001B[39mvalues\n\u001B[1;32m      4\u001B[0m y_labels \u001B[38;5;241m=\u001B[39m features[\u001B[38;5;124m\"\u001B[39m\u001B[38;5;124mlabel\u001B[39m\u001B[38;5;124m\"\u001B[39m]\u001B[38;5;241m.\u001B[39mvalues\n",
      "\u001B[0;31mNameError\u001B[0m: name 'extract_features' is not defined"
     ]
    }
   ],
   "execution_count": 5
  },
  {
   "cell_type": "markdown",
   "metadata": {},
   "source": [
    "## Exercise 4.6: Advanced 3D Visualization\n",
    "\n",
    "Visualize the clustering results using interactive 3D plots with Plotly.\n",
    "\n",
    "1. Use PCA to reduce the dimensionality of our feature space to 3 components\n",
    "2. Create two visualizations:\n",
    "   - Points colored by assigned cluster\n",
    "   - Same points colored by actual quality labels\n",
    "3. Include the explained variance for each principal component in the axis labels\n",
    "4. Save the figures to the plot_path\n",
    "\n",
    "\n",
    "This visualization will help us understand how well our clustering approach aligns with the known quality designations.\n",
    "\n",
    "#### Note:\n",
    "- You can use the following links to find more information about the PCA:\n",
    "   - https://en.wikipedia.org/wiki/Principal_component_analysis\n",
    "   - https://scikit-learn.org/stable/modules/generated/sklearn.decomposition.PCA.html\n"
   ]
  },
  {
   "cell_type": "code",
   "execution_count": null,
   "metadata": {},
   "outputs": [],
   "source": [
    "fig1_save_path = save_plotly_figure_as_html(fig1, output_dir / f'clusters_3d_{n_clusters}_clusters')\n",
    "fig2_save_path = save_plotly_figure_as_html(fig2, output_dir / f'quality_3d_{n_clusters}_clusters')"
   ]
  },
  {
   "cell_type": "markdown",
   "metadata": {},
   "source": [
    "## Exercise 4.7: Analysis and Interpretation\n",
    "\n",
    "Analyze the clustering results in depth and discuss their implications:\n",
    "\n",
    "1. Cluster separation:\n",
    "   - How well do clusters separate different quality levels?\n",
    "   - What is the Adjusted Rand Index between clusters and quality labels?\n",
    "   - Are there clusters that predominantly contain good or bad welds?\n",
    "\n",
    "2. Feature importance:\n",
    "   - Which features seem most important for distinguishing clusters?\n",
    "   - How does the PCA visualization help us understand the data structure?\n",
    "\n",
    "3. Process insights:\n",
    "   - What insights could these clusters provide for improving the welding process?\n",
    "   - Could certain clusters identify specific types of welding issues?\n",
    "\n",
    "4. Limitations:\n",
    "   - What are the limitations of using clustering for quality assessment?\n",
    "   - How might the approach be improved in future iterations?\n",
    "\n"
   ]
  }
 ],
 "metadata": {
  "kernelspec": {
   "display_name": ".venv",
   "language": "python",
   "name": "python3"
  },
  "language_info": {
   "codemirror_mode": {
    "name": "ipython",
    "version": 3
   },
   "file_extension": ".py",
   "mimetype": "text/x-python",
   "name": "python",
   "nbconvert_exporter": "python",
   "pygments_lexer": "ipython3",
   "version": "3.13.2"
  }
 },
 "nbformat": 4,
 "nbformat_minor": 2
}
