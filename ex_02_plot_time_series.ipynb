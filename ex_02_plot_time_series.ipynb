{
 "cells": [
  {
   "cell_type": "code",
   "metadata": {
    "ExecuteTime": {
     "end_time": "2025-05-28T15:08:49.286202Z",
     "start_time": "2025-05-28T15:08:49.282652Z"
    }
   },
   "source": [
    "import numpy as np\n",
    "import pandas as pd\n",
    "from pathlib import Path\n",
    "from matplotlib import pyplot as plt\n",
    "from plotly.offline import plot\n",
    "\n",
    "import plotly.express as px\n",
    "import plotly.graph_objects as go\n",
    "from plotly.subplots import make_subplots\n",
    "\n",
    "from utils import save_plotly_figure_as_html\n",
    "from ex_01_read_data import get_welding_data\n",
    "\n"
   ],
   "outputs": [],
   "execution_count": 40
  },
  {
   "cell_type": "code",
   "metadata": {
    "ExecuteTime": {
     "end_time": "2025-05-28T15:08:49.374658Z",
     "start_time": "2025-05-28T15:08:49.365636Z"
    }
   },
   "source": [
    "data_path = Path(\"data/Welding/data.csv\")\n",
    "plot_path = Path(\"plots/ex_02\")"
   ],
   "outputs": [],
   "execution_count": 41
  },
  {
   "cell_type": "markdown",
   "metadata": {},
   "source": [
    "## Exercise 2.1: Dataset Statistics Analysis\n",
    "\n",
    "In this exercise, we'll calculate and present comprehensive descriptive statistics for the welding dataset. This statistical overview will help us understand the fundamental characteristics of our data before visualization or modeling.\n",
    "\n",
    "1. Calculate the class distribution to understand data balance\n",
    "2. Count samples per experiment to assess data volume across experimental conditions\n",
    "3. Determine min/max values for voltage and current to understand the range of measurements\n",
    "4. Calculate mean and standard deviation to assess central tendency and variability\n",
    "5. Find median values to identify central points unaffected by outliers"
   ]
  },
  {
   "cell_type": "code",
   "metadata": {
    "ExecuteTime": {
     "end_time": "2025-05-28T15:08:49.733893Z",
     "start_time": "2025-05-28T15:08:49.441727Z"
    }
   },
   "source": [
    "data, labels, exp_ids = get_welding_data(data_path)"
   ],
   "outputs": [],
   "execution_count": 42
  },
  {
   "cell_type": "code",
   "metadata": {
    "ExecuteTime": {
     "end_time": "2025-05-28T15:08:51.084449Z",
     "start_time": "2025-05-28T15:08:49.780835Z"
    }
   },
   "source": [
    "# Class Distribution\n",
    "class_counts = pd.Series(labels).value_counts().sort_index()\n",
    "print(\"Class distribution:\\n\", class_counts)\n",
    "\n",
    "# Count samples Experiment\n",
    "experiment_counts = pd.Series(exp_ids).value_counts().sort_index()\n",
    "print(\"\\nSamples per experiment:\\n\", experiment_counts)\n",
    "\n",
    "# Determine min max vlaues\n",
    "voltage_cols = np.arange(0, data.shape[1], 2)\n",
    "current_cols = np.arange(1, data.shape[1], 2)\n",
    "\n",
    "voltage = data[:,:,0]\n",
    "current = data[:,:,1]\n",
    "\n",
    "# Statistiken\n",
    "print(\"\\nVoltage statistics:\")\n",
    "print(f\"Min: {voltage.min():.2f}, Max: {voltage.max():.2f}\")\n",
    "print(f\"Mean: {voltage.mean():.2f}, Std: {voltage.std():.2f}, Median: {np.median(voltage):.2f}\")\n",
    "\n",
    "print(\"\\nCurrent statistics:\")\n",
    "print(f\"Min: {current.min():.2f}, Max: {current.max():.2f}\")\n",
    "print(f\"Mean: {current.mean():.2f}, Std: {current.std():.2f}, Median: {np.median(current):.2f}\")\n",
    "\n"
   ],
   "outputs": [
    {
     "name": "stdout",
     "output_type": "stream",
     "text": [
      "Class distribution:\n",
      " 0    90746\n",
      "1    67219\n",
      "Name: count, dtype: int64\n",
      "\n",
      "Samples per experiment:\n",
      " 1    35521\n",
      "2    17913\n",
      "3    46768\n",
      "4    57763\n",
      "Name: count, dtype: int64\n",
      "\n",
      "Voltage statistics:\n",
      "Min: -1.18, Max: 614.15\n",
      "Mean: 173.46, Std: 180.84, Median: 68.59\n",
      "\n",
      "Current statistics:\n",
      "Min: 0.07, Max: 101.49\n",
      "Mean: 22.04, Std: 6.02, Median: 20.84\n"
     ]
    }
   ],
   "execution_count": 43
  },
  {
   "cell_type": "markdown",
   "metadata": {},
   "source": [
    "## Exercise 2.2: Current and Voltage Distribution Visualization\n",
    "\n",
    "In this exercise, we'll create interactive boxplots to visualize and compare the distributions of voltage and current measurements in the welding data. Boxplots will help us identify central tendencies, spread, and potential outliers in our measurements.\n",
    "\n",
    "1. Create side-by-side boxplots for voltage and current using Plotly\n",
    "2. Display key statistics (median, quartiles, etc.) in a visual format in the plot\n",
    "3. Enable interactive exploration of the distributions\n",
    "4. Save the visualization for future reference"
   ]
  },
  {
   "cell_type": "code",
   "metadata": {
    "ExecuteTime": {
     "end_time": "2025-05-28T15:08:51.362298Z",
     "start_time": "2025-05-28T15:08:51.121567Z"
    }
   },
   "source": [
    "data, labels, exp_ids = get_welding_data(data_path, n_samples=10)\n",
    "\n",
    "save_path =  plot_path / \"voltage_current_distribution\""
   ],
   "outputs": [],
   "execution_count": 44
  },
  {
   "cell_type": "code",
   "metadata": {
    "ExecuteTime": {
     "end_time": "2025-05-28T15:08:53.111478Z",
     "start_time": "2025-05-28T15:08:52.805150Z"
    }
   },
   "source": [
    "# Select voltage and current columns\n",
    "voltage_cols = np.arange(0, data.shape[1], 2)\n",
    "current_cols = np.arange(1, data.shape[1], 2)\n",
    "\n",
    "voltage = data[:,:,0]\n",
    "current = data[:,:,1]\n",
    "\n",
    "# Create a DataFrame for plotting\n",
    "df_plot = pd.DataFrame({\n",
    "    \"Voltage\": voltages,\n",
    "    \"Current\": currents\n",
    "})\n",
    "\n",
    "# Melt the DataFrame to long format for Plotly\n",
    "df_melted = df_plot.melt(var_name='Measurement Type', value_name='Value')\n",
    "\n",
    "# Create boxplot\n",
    "fig = px.box(df_melted, x='Measurement Type', y='Value', points='all', title=\"Voltage and Current Distributions\")\n",
    "\n",
    "# Show interactive plot\n",
    "plot(fig)\n",
    "\n",
    "# Save to HTML\n",
    "save_plotly_figure_as_html(fig, save_path)\n"
   ],
   "outputs": [],
   "execution_count": 45
  },
  {
   "cell_type": "markdown",
   "metadata": {},
   "source": [
    "## Exercise 2.3: Time-Series Sequence Visualization\n",
    "\n",
    "In this exercise, we'll implement functions to visualize the time-series patterns of welding cycles. These visualizations will help us understand the temporal relationships between voltage and current during the welding process and identify patterns associated with quality outcomes.\n",
    "\n",
    "1. Create dual-axis plots showing voltage and current over time (10 welding cycles -> sequence_length=10) using matplotlib\n",
    "2. Implement clear legends and labels for data interpretation\n",
    "3. Enable saving of visualizations for reporting and comparison"
   ]
  },
  {
   "cell_type": "code",
   "metadata": {
    "ExecuteTime": {
     "end_time": "2025-05-28T15:08:53.509047Z",
     "start_time": "2025-05-28T15:08:53.163570Z"
    }
   },
   "source": [
    "\n",
    "data, labels, exp_ids = get_welding_data(data_path, n_samples=100, return_sequences=True, sequence_length=10)\n",
    "save_path = plot_path / \"welding_sample.png\"    "
   ],
   "outputs": [],
   "execution_count": 46
  },
  {
   "cell_type": "code",
   "metadata": {
    "ExecuteTime": {
     "end_time": "2025-05-28T15:08:54.648609Z",
     "start_time": "2025-05-28T15:08:53.561296Z"
    }
   },
   "source": [
    "index = 0\n",
    "\n",
    "if index >= len(data):\n",
    "    raise IndexError(f\"Index {index} is out of range for data with shape {data.shape}\")\n",
    "\n",
    "sequence = data[index]\n",
    "time = np.arange(sequence.shape[0])\n",
    "voltage = data[:,:,0]\n",
    "current = data[:,:,1]\n",
    "\n",
    "fig, ax1 = plt.subplots(figsize=(10, 5))\n",
    "\n",
    "# Plot current\n",
    "ax1.set_xlabel(\"Time step\")\n",
    "ax1.set_ylabel(\"Current (A)\", color='tab:blue')\n",
    "ax1.plot(time, current, label=\"Current\", color='tab:blue')\n",
    "ax1.tick_params(axis='y', labelcolor='tab:blue')\n",
    "\n",
    "# Plot voltage on second axis\n",
    "ax2 = ax1.twinx()\n",
    "ax2.set_ylabel(\"Voltage (V)\", color='tab:red')\n",
    "ax2.plot(time, voltage, label=\"Voltage\", color='tab:red')\n",
    "ax2.tick_params(axis='y', labelcolor='tab:red')\n",
    "\n",
    "# Title and legend\n",
    "plt.title(f\"Sequence for Welding Cycle #{exp_ids[index]} (Label: {labels[index]})\")\n",
    "\n",
    "lines_1, labels_1 = ax1.get_legend_handles_labels()\n",
    "lines_2, labels_2 = ax2.get_legend_handles_labels()\n",
    "ax1.legend(lines_1 + lines_2, labels_1 + labels_2, loc='upper left')\n",
    "\n",
    "fig.tight_layout()\n",
    "\n",
    "if save_path:\n",
    "    save_path.parent.mkdir(parents=True, exist_ok=True)\n",
    "    plt.savefig(save_path, dpi=300, bbox_inches=\"tight\")\n",
    "    print(f\"Plot saved to {save_path}\")\n",
    "else:\n",
    "    plt.show()\n",
    "\n",
    "    plt.close()"
   ],
   "outputs": [
    {
     "ename": "ValueError",
     "evalue": "x and y must have same first dimension, but have shapes (2000,) and (91, 2000)",
     "output_type": "error",
     "traceback": [
      "\u001B[0;31m---------------------------------------------------------------------------\u001B[0m",
      "\u001B[0;31mValueError\u001B[0m                                Traceback (most recent call last)",
      "Cell \u001B[0;32mIn[47], line 16\u001B[0m\n\u001B[1;32m     14\u001B[0m ax1\u001B[38;5;241m.\u001B[39mset_xlabel(\u001B[38;5;124m\"\u001B[39m\u001B[38;5;124mTime step\u001B[39m\u001B[38;5;124m\"\u001B[39m)\n\u001B[1;32m     15\u001B[0m ax1\u001B[38;5;241m.\u001B[39mset_ylabel(\u001B[38;5;124m\"\u001B[39m\u001B[38;5;124mCurrent (A)\u001B[39m\u001B[38;5;124m\"\u001B[39m, color\u001B[38;5;241m=\u001B[39m\u001B[38;5;124m'\u001B[39m\u001B[38;5;124mtab:blue\u001B[39m\u001B[38;5;124m'\u001B[39m)\n\u001B[0;32m---> 16\u001B[0m \u001B[43max1\u001B[49m\u001B[38;5;241;43m.\u001B[39;49m\u001B[43mplot\u001B[49m\u001B[43m(\u001B[49m\u001B[43mtime\u001B[49m\u001B[43m,\u001B[49m\u001B[43m \u001B[49m\u001B[43mcurrent\u001B[49m\u001B[43m,\u001B[49m\u001B[43m \u001B[49m\u001B[43mlabel\u001B[49m\u001B[38;5;241;43m=\u001B[39;49m\u001B[38;5;124;43m\"\u001B[39;49m\u001B[38;5;124;43mCurrent\u001B[39;49m\u001B[38;5;124;43m\"\u001B[39;49m\u001B[43m,\u001B[49m\u001B[43m \u001B[49m\u001B[43mcolor\u001B[49m\u001B[38;5;241;43m=\u001B[39;49m\u001B[38;5;124;43m'\u001B[39;49m\u001B[38;5;124;43mtab:blue\u001B[39;49m\u001B[38;5;124;43m'\u001B[39;49m\u001B[43m)\u001B[49m\n\u001B[1;32m     17\u001B[0m ax1\u001B[38;5;241m.\u001B[39mtick_params(axis\u001B[38;5;241m=\u001B[39m\u001B[38;5;124m'\u001B[39m\u001B[38;5;124my\u001B[39m\u001B[38;5;124m'\u001B[39m, labelcolor\u001B[38;5;241m=\u001B[39m\u001B[38;5;124m'\u001B[39m\u001B[38;5;124mtab:blue\u001B[39m\u001B[38;5;124m'\u001B[39m)\n\u001B[1;32m     19\u001B[0m \u001B[38;5;66;03m# Plot voltage on second axis\u001B[39;00m\n",
      "File \u001B[0;32m~/Uni/Informatik/AML (Applied Machine Learning)/Code/.venv/lib/python3.10/site-packages/matplotlib/axes/_axes.py:1777\u001B[0m, in \u001B[0;36mAxes.plot\u001B[0;34m(self, scalex, scaley, data, *args, **kwargs)\u001B[0m\n\u001B[1;32m   1534\u001B[0m \u001B[38;5;250m\u001B[39m\u001B[38;5;124;03m\"\"\"\u001B[39;00m\n\u001B[1;32m   1535\u001B[0m \u001B[38;5;124;03mPlot y versus x as lines and/or markers.\u001B[39;00m\n\u001B[1;32m   1536\u001B[0m \n\u001B[0;32m   (...)\u001B[0m\n\u001B[1;32m   1774\u001B[0m \u001B[38;5;124;03m(``'green'``) or hex strings (``'#008000'``).\u001B[39;00m\n\u001B[1;32m   1775\u001B[0m \u001B[38;5;124;03m\"\"\"\u001B[39;00m\n\u001B[1;32m   1776\u001B[0m kwargs \u001B[38;5;241m=\u001B[39m cbook\u001B[38;5;241m.\u001B[39mnormalize_kwargs(kwargs, mlines\u001B[38;5;241m.\u001B[39mLine2D)\n\u001B[0;32m-> 1777\u001B[0m lines \u001B[38;5;241m=\u001B[39m [\u001B[38;5;241m*\u001B[39m\u001B[38;5;28mself\u001B[39m\u001B[38;5;241m.\u001B[39m_get_lines(\u001B[38;5;28mself\u001B[39m, \u001B[38;5;241m*\u001B[39margs, data\u001B[38;5;241m=\u001B[39mdata, \u001B[38;5;241m*\u001B[39m\u001B[38;5;241m*\u001B[39mkwargs)]\n\u001B[1;32m   1778\u001B[0m \u001B[38;5;28;01mfor\u001B[39;00m line \u001B[38;5;129;01min\u001B[39;00m lines:\n\u001B[1;32m   1779\u001B[0m     \u001B[38;5;28mself\u001B[39m\u001B[38;5;241m.\u001B[39madd_line(line)\n",
      "File \u001B[0;32m~/Uni/Informatik/AML (Applied Machine Learning)/Code/.venv/lib/python3.10/site-packages/matplotlib/axes/_base.py:297\u001B[0m, in \u001B[0;36m_process_plot_var_args.__call__\u001B[0;34m(self, axes, data, return_kwargs, *args, **kwargs)\u001B[0m\n\u001B[1;32m    295\u001B[0m     this \u001B[38;5;241m+\u001B[39m\u001B[38;5;241m=\u001B[39m args[\u001B[38;5;241m0\u001B[39m],\n\u001B[1;32m    296\u001B[0m     args \u001B[38;5;241m=\u001B[39m args[\u001B[38;5;241m1\u001B[39m:]\n\u001B[0;32m--> 297\u001B[0m \u001B[38;5;28;01myield from\u001B[39;00m \u001B[38;5;28;43mself\u001B[39;49m\u001B[38;5;241;43m.\u001B[39;49m\u001B[43m_plot_args\u001B[49m\u001B[43m(\u001B[49m\n\u001B[1;32m    298\u001B[0m \u001B[43m    \u001B[49m\u001B[43maxes\u001B[49m\u001B[43m,\u001B[49m\u001B[43m \u001B[49m\u001B[43mthis\u001B[49m\u001B[43m,\u001B[49m\u001B[43m \u001B[49m\u001B[43mkwargs\u001B[49m\u001B[43m,\u001B[49m\u001B[43m \u001B[49m\u001B[43mambiguous_fmt_datakey\u001B[49m\u001B[38;5;241;43m=\u001B[39;49m\u001B[43mambiguous_fmt_datakey\u001B[49m\u001B[43m,\u001B[49m\n\u001B[1;32m    299\u001B[0m \u001B[43m    \u001B[49m\u001B[43mreturn_kwargs\u001B[49m\u001B[38;5;241;43m=\u001B[39;49m\u001B[43mreturn_kwargs\u001B[49m\n\u001B[1;32m    300\u001B[0m \u001B[43m\u001B[49m\u001B[43m)\u001B[49m\n",
      "File \u001B[0;32m~/Uni/Informatik/AML (Applied Machine Learning)/Code/.venv/lib/python3.10/site-packages/matplotlib/axes/_base.py:494\u001B[0m, in \u001B[0;36m_process_plot_var_args._plot_args\u001B[0;34m(self, axes, tup, kwargs, return_kwargs, ambiguous_fmt_datakey)\u001B[0m\n\u001B[1;32m    491\u001B[0m     axes\u001B[38;5;241m.\u001B[39myaxis\u001B[38;5;241m.\u001B[39mupdate_units(y)\n\u001B[1;32m    493\u001B[0m \u001B[38;5;28;01mif\u001B[39;00m x\u001B[38;5;241m.\u001B[39mshape[\u001B[38;5;241m0\u001B[39m] \u001B[38;5;241m!=\u001B[39m y\u001B[38;5;241m.\u001B[39mshape[\u001B[38;5;241m0\u001B[39m]:\n\u001B[0;32m--> 494\u001B[0m     \u001B[38;5;28;01mraise\u001B[39;00m \u001B[38;5;167;01mValueError\u001B[39;00m(\u001B[38;5;124mf\u001B[39m\u001B[38;5;124m\"\u001B[39m\u001B[38;5;124mx and y must have same first dimension, but \u001B[39m\u001B[38;5;124m\"\u001B[39m\n\u001B[1;32m    495\u001B[0m                      \u001B[38;5;124mf\u001B[39m\u001B[38;5;124m\"\u001B[39m\u001B[38;5;124mhave shapes \u001B[39m\u001B[38;5;132;01m{\u001B[39;00mx\u001B[38;5;241m.\u001B[39mshape\u001B[38;5;132;01m}\u001B[39;00m\u001B[38;5;124m and \u001B[39m\u001B[38;5;132;01m{\u001B[39;00my\u001B[38;5;241m.\u001B[39mshape\u001B[38;5;132;01m}\u001B[39;00m\u001B[38;5;124m\"\u001B[39m)\n\u001B[1;32m    496\u001B[0m \u001B[38;5;28;01mif\u001B[39;00m x\u001B[38;5;241m.\u001B[39mndim \u001B[38;5;241m>\u001B[39m \u001B[38;5;241m2\u001B[39m \u001B[38;5;129;01mor\u001B[39;00m y\u001B[38;5;241m.\u001B[39mndim \u001B[38;5;241m>\u001B[39m \u001B[38;5;241m2\u001B[39m:\n\u001B[1;32m    497\u001B[0m     \u001B[38;5;28;01mraise\u001B[39;00m \u001B[38;5;167;01mValueError\u001B[39;00m(\u001B[38;5;124mf\u001B[39m\u001B[38;5;124m\"\u001B[39m\u001B[38;5;124mx and y can be no greater than 2D, but have \u001B[39m\u001B[38;5;124m\"\u001B[39m\n\u001B[1;32m    498\u001B[0m                      \u001B[38;5;124mf\u001B[39m\u001B[38;5;124m\"\u001B[39m\u001B[38;5;124mshapes \u001B[39m\u001B[38;5;132;01m{\u001B[39;00mx\u001B[38;5;241m.\u001B[39mshape\u001B[38;5;132;01m}\u001B[39;00m\u001B[38;5;124m and \u001B[39m\u001B[38;5;132;01m{\u001B[39;00my\u001B[38;5;241m.\u001B[39mshape\u001B[38;5;132;01m}\u001B[39;00m\u001B[38;5;124m\"\u001B[39m)\n",
      "\u001B[0;31mValueError\u001B[0m: x and y must have same first dimension, but have shapes (2000,) and (91, 2000)"
     ]
    },
    {
     "data": {
      "text/plain": [
       "<Figure size 1000x500 with 1 Axes>"
      ],
      "image/png": "[encoded data removed]"
     },
     "metadata": {},
     "output_type": "display_data"
    }
   ],
   "execution_count": 47
  },
  {
   "cell_type": "markdown",
   "metadata": {},
   "source": [
    "## Exercise 2.4: Interactive Time-Series Visualization with Plotly\n",
    "\n",
    "In this exercise, we'll create enhanced interactive visualizations of welding samples using Plotly. These interactive plots will provide more advanced exploration capabilities for analyzing the time-series patterns.\n",
    "\n",
    "1. Create interactive plots with dual y-axes for voltage and current\n",
    "2. Implement time-based range sliders for detailed exploration\n",
    "3. Add unified tooltips for precise data reading\n",
    "4. Display quality metrics in the plot title\n",
    "5. Save interactive visualizations as HTML for sharing"
   ]
  },
  {
   "cell_type": "code",
   "metadata": {
    "ExecuteTime": {
     "end_time": "2025-05-28T15:08:54.651982102Z",
     "start_time": "2025-05-28T15:07:10.059696Z"
    }
   },
   "source": [
    "import numpy as np\n",
    "import plotly.graph_objects as go\n",
    "import random\n",
    "\n",
    "def create_plotly_plot(data: np.ndarray, labels: np.ndarray, exp_ids: np.ndarray = None) -> go.Figure:\n",
    "    idx = random.randint(0, data.shape[0] - 1)\n",
    "    sample = data[idx]\n",
    "    voltage = data[:,:,0]\n",
    "    current = data[:,:,1]\n",
    "    time = np.arange(len(voltage))  # Annahme: gleichmäßig verteilte Zeit\n",
    "\n",
    "    fig = go.Figure()\n",
    "    fig.add_trace(go.Scatter(x=time, y=voltage, mode='lines', name='Voltage'))\n",
    "    fig.add_trace(go.Scatter(x=time, y=current, mode='lines', name='Current'))\n",
    "\n",
    "    title = f\"Sample #{idx}\"\n",
    "    if exp_ids is not None:\n",
    "        title += f\" | Experiment ID: {exp_ids[idx]}\"\n",
    "    if labels is not None:\n",
    "        title += f\" | Label: {labels[idx]}\"\n",
    "\n",
    "    fig.update_layout(\n",
    "        title=title,\n",
    "        xaxis_title='Time Step',\n",
    "        yaxis_title='Value',\n",
    "        legend=dict(x=0, y=1),\n",
    "        template='plotly_dark'\n",
    "    )\n",
    "\n",
    "    return fig\n"
   ],
   "outputs": [],
   "execution_count": 36
  },
  {
   "metadata": {
    "ExecuteTime": {
     "end_time": "2025-05-28T15:08:54.664851827Z",
     "start_time": "2025-05-28T15:07:10.161923Z"
    }
   },
   "cell_type": "code",
   "source": [
    "# Beispiel: Funktion testen\n",
    "data, labels, exp_ids = get_welding_data(data_path, n_samples=100)\n",
    "\n",
    "# Erzeuge zufällige interaktive Visualisierung\n",
    "fig = create_plotly_plot(data, labels, exp_ids)\n",
    "\n",
    "# Speichern und anzeigen\n",
    "save_plotly_figure_as_html(fig, plot_path / \"welding_sample_random.html\")\n",
    "fig.show()\n"
   ],
   "outputs": [
    {
     "data": {
      "application/vnd.plotly.v1+json": {
       "data": [
        {
         "mode": "lines",
         "name": "Voltage",
         "x": {
          "dtype": "i2",
          "bdata": "AAABAAIAAwAEAAUABgAHAAgACQAKAAsADAANAA4ADwAQABEAEgATABQAFQAWABcAGAAZABoAGwAcAB0AHgAfACAAIQAiACMAJAAlACYAJwAoACkAKgArACwALQAuAC8AMAAxADIAMwA0ADUANgA3ADgAOQA6ADsAPAA9AD4APwBAAEEAQgBDAEQARQBGAEcASABJAEoASwBMAE0ATgBPAFAAUQBSAFMAVABVAFYAVwBYAFkAWgBbAFwAXQBeAF8AYABhAGIAYwBkAGUAZgBnAGgAaQBqAGsAbABtAG4AbwBwAHEAcgBzAHQAdQB2AHcAeAB5AHoAewB8AH0AfgB/AIAAgQCCAIMAhACFAIYAhwCIAIkAigCLAIwAjQCOAI8AkACRAJIAkwCUAJUAlgCXAJgAmQCaAJsAnACdAJ4AnwCgAKEAogCjAKQApQCmAKcAqACpAKoAqwCsAK0ArgCvALAAsQCyALMAtAC1ALYAtwC4ALkAugC7ALwAvQC+AL8AwADBAMIAwwDEAMUAxgDHAA=="
         },
         "y": {
          "dtype": "f8",
          "bdata": "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"
         },
         "type": "scatter"
        },
        {
         "mode": "lines",
         "name": "Current",
         "x": {
          "dtype": "i2",
          "bdata": "AAABAAIAAwAEAAUABgAHAAgACQAKAAsADAANAA4ADwAQABEAEgATABQAFQAWABcAGAAZABoAGwAcAB0AHgAfACAAIQAiACMAJAAlACYAJwAoACkAKgArACwALQAuAC8AMAAxADIAMwA0ADUANgA3ADgAOQA6ADsAPAA9AD4APwBAAEEAQgBDAEQARQBGAEcASABJAEoASwBMAE0ATgBPAFAAUQBSAFMAVABVAFYAVwBYAFkAWgBbAFwAXQBeAF8AYABhAGIAYwBkAGUAZgBnAGgAaQBqAGsAbABtAG4AbwBwAHEAcgBzAHQAdQB2AHcAeAB5AHoAewB8AH0AfgB/AIAAgQCCAIMAhACFAIYAhwCIAIkAigCLAIwAjQCOAI8AkACRAJIAkwCUAJUAlgCXAJgAmQCaAJsAnACdAJ4AnwCgAKEAogCjAKQApQCmAKcAqACpAKoAqwCsAK0ArgCvALAAsQCyALMAtAC1ALYAtwC4ALkAugC7ALwAvQC+AL8AwADBAMIAwwDEAMUAxgDHAA=="
         },
         "y": {
          "dtype": "f8",
          "bdata": "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"
         },
         "type": "scatter"
        }
       ],
       "layout": {
        "template": {
         "data": {
          "histogram2dcontour": [
           {
            "type": "histogram2dcontour",
            "colorbar": {
             "outlinewidth": 0,
             "ticks": ""
            },
            "colorscale": [
             [
              0.0,
              "#0d0887"
             ],
             [
              0.1111111111111111,
              "#46039f"
             ],
             [
              0.2222222222222222,
              "#7201a8"
             ],
             [
              0.3333333333333333,
              "#9c179e"
             ],
             [
              0.4444444444444444,
              "#bd3786"
             ],
             [
              0.5555555555555556,
              "#d8576b"
             ],
             [
              0.6666666666666666,
              "#ed7953"
             ],
             [
              0.7777777777777778,
              "#fb9f3a"
             ],
             [
              0.8888888888888888,
              "#fdca26"
             ],
             [
              1.0,
              "#f0f921"
             ]
            ]
           }
          ],
          "choropleth": [
           {
            "type": "choropleth",
            "colorbar": {
             "outlinewidth": 0,
             "ticks": ""
            }
           }
          ],
          "histogram2d": [
           {
            "type": "histogram2d",
            "colorbar": {
             "outlinewidth": 0,
             "ticks": ""
            },
            "colorscale": [
             [
              0.0,
              "#0d0887"
             ],
             [
              0.1111111111111111,
              "#46039f"
             ],
             [
              0.2222222222222222,
              "#7201a8"
             ],
             [
              0.3333333333333333,
              "#9c179e"
             ],
             [
              0.4444444444444444,
              "#bd3786"
             ],
             [
              0.5555555555555556,
              "#d8576b"
             ],
             [
              0.6666666666666666,
              "#ed7953"
             ],
             [
              0.7777777777777778,
              "#fb9f3a"
             ],
             [
              0.8888888888888888,
              "#fdca26"
             ],
             [
              1.0,
              "#f0f921"
             ]
            ]
           }
          ],
          "heatmap": [
           {
            "type": "heatmap",
            "colorbar": {
             "outlinewidth": 0,
             "ticks": ""
            },
            "colorscale": [
             [
              0.0,
              "#0d0887"
             ],
             [
              0.1111111111111111,
              "#46039f"
             ],
             [
              0.2222222222222222,
              "#7201a8"
             ],
             [
              0.3333333333333333,
              "#9c179e"
             ],
             [
              0.4444444444444444,
              "#bd3786"
             ],
             [
              0.5555555555555556,
              "#d8576b"
             ],
             [
              0.6666666666666666,
              "#ed7953"
             ],
             [
              0.7777777777777778,
              "#fb9f3a"
             ],
             [
              0.8888888888888888,
              "#fdca26"
             ],
             [
              1.0,
              "#f0f921"
             ]
            ]
           }
          ],
          "contourcarpet": [
           {
            "type": "contourcarpet",
            "colorbar": {
             "outlinewidth": 0,
             "ticks": ""
            }
           }
          ],
          "contour": [
           {
            "type": "contour",
            "colorbar": {
             "outlinewidth": 0,
             "ticks": ""
            },
            "colorscale": [
             [
              0.0,
              "#0d0887"
             ],
             [
              0.1111111111111111,
              "#46039f"
             ],
             [
              0.2222222222222222,
              "#7201a8"
             ],
             [
              0.3333333333333333,
              "#9c179e"
             ],
             [
              0.4444444444444444,
              "#bd3786"
             ],
             [
              0.5555555555555556,
              "#d8576b"
             ],
             [
              0.6666666666666666,
              "#ed7953"
             ],
             [
              0.7777777777777778,
              "#fb9f3a"
             ],
             [
              0.8888888888888888,
              "#fdca26"
             ],
             [
              1.0,
              "#f0f921"
             ]
            ]
           }
          ],
          "surface": [
           {
            "type": "surface",
            "colorbar": {
             "outlinewidth": 0,
             "ticks": ""
            },
            "colorscale": [
             [
              0.0,
              "#0d0887"
             ],
             [
              0.1111111111111111,
              "#46039f"
             ],
             [
              0.2222222222222222,
              "#7201a8"
             ],
             [
              0.3333333333333333,
              "#9c179e"
             ],
             [
              0.4444444444444444,
              "#bd3786"
             ],
             [
              0.5555555555555556,
              "#d8576b"
             ],
             [
              0.6666666666666666,
              "#ed7953"
             ],
             [
              0.7777777777777778,
              "#fb9f3a"
             ],
             [
              0.8888888888888888,
              "#fdca26"
             ],
             [
              1.0,
              "#f0f921"
             ]
            ]
           }
          ],
          "mesh3d": [
           {
            "type": "mesh3d",
            "colorbar": {
             "outlinewidth": 0,
             "ticks": ""
            }
           }
          ],
          "scatter": [
           {
            "marker": {
             "line": {
              "color": "#283442"
             }
            },
            "type": "scatter"
           }
          ],
          "parcoords": [
           {
            "type": "parcoords",
            "line": {
             "colorbar": {
              "outlinewidth": 0,
              "ticks": ""
             }
            }
           }
          ],
          "scatterpolargl": [
           {
            "type": "scatterpolargl",
            "marker": {
             "colorbar": {
              "outlinewidth": 0,
              "ticks": ""
             }
            }
           }
          ],
          "bar": [
           {
            "error_x": {
             "color": "#f2f5fa"
            },
            "error_y": {
             "color": "#f2f5fa"
            },
            "marker": {
             "line": {
              "color": "rgb(17,17,17)",
              "width": 0.5
             },
             "pattern": {
              "fillmode": "overlay",
              "size": 10,
              "solidity": 0.2
             }
            },
            "type": "bar"
           }
          ],
          "scattergeo": [
           {
            "type": "scattergeo",
            "marker": {
             "colorbar": {
              "outlinewidth": 0,
              "ticks": ""
             }
            }
           }
          ],
          "scatterpolar": [
           {
            "type": "scatterpolar",
            "marker": {
             "colorbar": {
              "outlinewidth": 0,
              "ticks": ""
             }
            }
           }
          ],
          "histogram": [
           {
            "marker": {
             "pattern": {
              "fillmode": "overlay",
              "size": 10,
              "solidity": 0.2
             }
            },
            "type": "histogram"
           }
          ],
          "scattergl": [
           {
            "marker": {
             "line": {
              "color": "#283442"
             }
            },
            "type": "scattergl"
           }
          ],
          "scatter3d": [
           {
            "type": "scatter3d",
            "line": {
             "colorbar": {
              "outlinewidth": 0,
              "ticks": ""
             }
            },
            "marker": {
             "colorbar": {
              "outlinewidth": 0,
              "ticks": ""
             }
            }
           }
          ],
          "scattermap": [
           {
            "type": "scattermap",
            "marker": {
             "colorbar": {
              "outlinewidth": 0,
              "ticks": ""
             }
            }
           }
          ],
          "scattermapbox": [
           {
            "type": "scattermapbox",
            "marker": {
             "colorbar": {
              "outlinewidth": 0,
              "ticks": ""
             }
            }
           }
          ],
          "scatterternary": [
           {
            "type": "scatterternary",
            "marker": {
             "colorbar": {
              "outlinewidth": 0,
              "ticks": ""
             }
            }
           }
          ],
          "scattercarpet": [
           {
            "type": "scattercarpet",
            "marker": {
             "colorbar": {
              "outlinewidth": 0,
              "ticks": ""
             }
            }
           }
          ],
          "carpet": [
           {
            "aaxis": {
             "endlinecolor": "#A2B1C6",
             "gridcolor": "#506784",
             "linecolor": "#506784",
             "minorgridcolor": "#506784",
             "startlinecolor": "#A2B1C6"
            },
            "baxis": {
             "endlinecolor": "#A2B1C6",
             "gridcolor": "#506784",
             "linecolor": "#506784",
             "minorgridcolor": "#506784",
             "startlinecolor": "#A2B1C6"
            },
            "type": "carpet"
           }
          ],
          "table": [
           {
            "cells": {
             "fill": {
              "color": "#506784"
             },
             "line": {
              "color": "rgb(17,17,17)"
             }
            },
            "header": {
             "fill": {
              "color": "#2a3f5f"
             },
             "line": {
              "color": "rgb(17,17,17)"
             }
            },
            "type": "table"
           }
          ],
          "barpolar": [
           {
            "marker": {
             "line": {
              "color": "rgb(17,17,17)",
              "width": 0.5
             },
             "pattern": {
              "fillmode": "overlay",
              "size": 10,
              "solidity": 0.2
             }
            },
            "type": "barpolar"
           }
          ],
          "pie": [
           {
            "automargin": true,
            "type": "pie"
           }
          ]
         },
         "layout": {
          "autotypenumbers": "strict",
          "colorway": [
           "#636efa",
           "#EF553B",
           "#00cc96",
           "#ab63fa",
           "#FFA15A",
           "#19d3f3",
           "#FF6692",
           "#B6E880",
           "#FF97FF",
           "#FECB52"
          ],
          "font": {
           "color": "#f2f5fa"
          },
          "hovermode": "closest",
          "hoverlabel": {
           "align": "left"
          },
          "paper_bgcolor": "rgb(17,17,17)",
          "plot_bgcolor": "rgb(17,17,17)",
          "polar": {
           "bgcolor": "rgb(17,17,17)",
           "angularaxis": {
            "gridcolor": "#506784",
            "linecolor": "#506784",
            "ticks": ""
           },
           "radialaxis": {
            "gridcolor": "#506784",
            "linecolor": "#506784",
            "ticks": ""
           }
          },
          "ternary": {
           "bgcolor": "rgb(17,17,17)",
           "aaxis": {
            "gridcolor": "#506784",
            "linecolor": "#506784",
            "ticks": ""
           },
           "baxis": {
            "gridcolor": "#506784",
            "linecolor": "#506784",
            "ticks": ""
           },
           "caxis": {
            "gridcolor": "#506784",
            "linecolor": "#506784",
            "ticks": ""
           }
          },
          "coloraxis": {
           "colorbar": {
            "outlinewidth": 0,
            "ticks": ""
           }
          },
          "colorscale": {
           "sequential": [
            [
             0.0,
             "#0d0887"
            ],
            [
             0.1111111111111111,
             "#46039f"
            ],
            [
             0.2222222222222222,
             "#7201a8"
            ],
            [
             0.3333333333333333,
             "#9c179e"
            ],
            [
             0.4444444444444444,
             "#bd3786"
            ],
            [
             0.5555555555555556,
             "#d8576b"
            ],
            [
             0.6666666666666666,
             "#ed7953"
            ],
            [
             0.7777777777777778,
             "#fb9f3a"
            ],
            [
             0.8888888888888888,
             "#fdca26"
            ],
            [
             1.0,
             "#f0f921"
            ]
           ],
           "sequentialminus": [
            [
             0.0,
             "#0d0887"
            ],
            [
             0.1111111111111111,
             "#46039f"
            ],
            [
             0.2222222222222222,
             "#7201a8"
            ],
            [
             0.3333333333333333,
             "#9c179e"
            ],
            [
             0.4444444444444444,
             "#bd3786"
            ],
            [
             0.5555555555555556,
             "#d8576b"
            ],
            [
             0.6666666666666666,
             "#ed7953"
            ],
            [
             0.7777777777777778,
             "#fb9f3a"
            ],
            [
             0.8888888888888888,
             "#fdca26"
            ],
            [
             1.0,
             "#f0f921"
            ]
           ],
           "diverging": [
            [
             0,
             "#8e0152"
            ],
            [
             0.1,
             "#c51b7d"
            ],
            [
             0.2,
             "#de77ae"
            ],
            [
             0.3,
             "#f1b6da"
            ],
            [
             0.4,
             "#fde0ef"
            ],
            [
             0.5,
             "#f7f7f7"
            ],
            [
             0.6,
             "#e6f5d0"
            ],
            [
             0.7,
             "#b8e186"
            ],
            [
             0.8,
             "#7fbc41"
            ],
            [
             0.9,
             "#4d9221"
            ],
            [
             1,
             "#276419"
            ]
           ]
          },
          "xaxis": {
           "gridcolor": "#283442",
           "linecolor": "#506784",
           "ticks": "",
           "title": {
            "standoff": 15
           },
           "zerolinecolor": "#283442",
           "automargin": true,
           "zerolinewidth": 2
          },
          "yaxis": {
           "gridcolor": "#283442",
           "linecolor": "#506784",
           "ticks": "",
           "title": {
            "standoff": 15
           },
           "zerolinecolor": "#283442",
           "automargin": true,
           "zerolinewidth": 2
          },
          "scene": {
           "xaxis": {
            "backgroundcolor": "rgb(17,17,17)",
            "gridcolor": "#506784",
            "linecolor": "#506784",
            "showbackground": true,
            "ticks": "",
            "zerolinecolor": "#C8D4E3",
            "gridwidth": 2
           },
           "yaxis": {
            "backgroundcolor": "rgb(17,17,17)",
            "gridcolor": "#506784",
            "linecolor": "#506784",
            "showbackground": true,
            "ticks": "",
            "zerolinecolor": "#C8D4E3",
            "gridwidth": 2
           },
           "zaxis": {
            "backgroundcolor": "rgb(17,17,17)",
            "gridcolor": "#506784",
            "linecolor": "#506784",
            "showbackground": true,
            "ticks": "",
            "zerolinecolor": "#C8D4E3",
            "gridwidth": 2
           }
          },
          "shapedefaults": {
           "line": {
            "color": "#f2f5fa"
           }
          },
          "annotationdefaults": {
           "arrowcolor": "#f2f5fa",
           "arrowhead": 0,
           "arrowwidth": 1
          },
          "geo": {
           "bgcolor": "rgb(17,17,17)",
           "landcolor": "rgb(17,17,17)",
           "subunitcolor": "#506784",
           "showland": true,
           "showlakes": true,
           "lakecolor": "rgb(17,17,17)"
          },
          "title": {
           "x": 0.05
          },
          "updatemenudefaults": {
           "bgcolor": "#506784",
           "borderwidth": 0
          },
          "sliderdefaults": {
           "bgcolor": "#C8D4E3",
           "borderwidth": 1,
           "bordercolor": "rgb(17,17,17)",
           "tickwidth": 0
          },
          "mapbox": {
           "style": "dark"
          }
         }
        },
        "legend": {
         "x": 0,
         "y": 1
        },
        "title": {
         "text": "Sample #15 | Experiment ID: 3 | Label: 0"
        },
        "xaxis": {
         "title": {
          "text": "Time Step"
         }
        },
        "yaxis": {
         "title": {
          "text": "Value"
         }
        }
       },
       "config": {
        "plotlyServerURL": "https://plot.ly"
       }
      }
     },
     "metadata": {},
     "output_type": "display_data"
    }
   ],
   "execution_count": 37
  },
  {
   "cell_type": "markdown",
   "metadata": {},
   "source": [
    "## Exercise 2.5: Multiple Sample Comparison\n",
    "\n",
    "In this exercise, we'll generate and compare visualizations from multiple random welding samples. This comparison will help us identify common patterns and variations across different welding cycles.\n",
    " \n",
    "\n",
    "1. Generate multiple random sample visualizations using matplotlib of single welding cycles\n",
    "2. Create dual-axis plots showing voltage and current over time\n",
    "3. Implement clear legends and labels for data interpretation\n",
    "4. Save each visualization for comparison"
   ]
  },
  {
   "cell_type": "code",
   "metadata": {
    "ExecuteTime": {
     "end_time": "2025-05-28T15:09:01.698849Z",
     "start_time": "2025-05-28T15:09:01.448997Z"
    }
   },
   "source": [
    "data, labels, exp_ids = get_welding_data(data_path, n_samples=1_000)"
   ],
   "outputs": [],
   "execution_count": 48
  },
  {
   "cell_type": "code",
   "metadata": {
    "ExecuteTime": {
     "end_time": "2025-05-29T10:46:31.078711Z",
     "start_time": "2025-05-29T10:46:31.061902Z"
    }
   },
   "source": [
    "for i in range(5):\n",
    "    plot_random_sample(data, labels, save_path=plot_path / f\"welding_sample_{i}.png\")\n",
    "    "
   ],
   "outputs": [
    {
     "ename": "NameError",
     "evalue": "name 'plot_random_sample' is not defined",
     "output_type": "error",
     "traceback": [
      "\u001B[31m---------------------------------------------------------------------------\u001B[39m",
      "\u001B[31mNameError\u001B[39m                                 Traceback (most recent call last)",
      "\u001B[36mCell\u001B[39m\u001B[36m \u001B[39m\u001B[32mIn[3]\u001B[39m\u001B[32m, line 2\u001B[39m\n\u001B[32m      1\u001B[39m \u001B[38;5;28;01mfor\u001B[39;00m i \u001B[38;5;129;01min\u001B[39;00m \u001B[38;5;28mrange\u001B[39m(\u001B[32m5\u001B[39m):\n\u001B[32m----> \u001B[39m\u001B[32m2\u001B[39m     \u001B[43mplot_random_sample\u001B[49m(data, labels, save_path=plot_path / \u001B[33mf\u001B[39m\u001B[33m\"\u001B[39m\u001B[33mwelding_sample_\u001B[39m\u001B[38;5;132;01m{\u001B[39;00mi\u001B[38;5;132;01m}\u001B[39;00m\u001B[33m.png\u001B[39m\u001B[33m\"\u001B[39m)\n",
      "\u001B[31mNameError\u001B[39m: name 'plot_random_sample' is not defined"
     ]
    }
   ],
   "execution_count": 3
  },
  {
   "cell_type": "code",
   "metadata": {
    "ExecuteTime": {
     "end_time": "2025-05-29T10:46:28.257571Z",
     "start_time": "2025-05-29T10:46:28.227390Z"
    }
   },
   "source": [
    "def plot_random_sample(data: np.ndarray, labels: np.ndarray, save_path: Path = None) -> None:\n",
    "    \"\"\"\n",
    "    Plots a random welding sample (voltage and current) and saves it as a PNG file.\n",
    "\n",
    "    Args:\n",
    "        data (np.ndarray): Welding data array (shape: [n_samples, n_timesteps, 2])\n",
    "        labels (np.ndarray): Array of class labels\n",
    "        save_path (Path, optional): Path to save the figure. If None, the plot is shown instead.\n",
    "    \"\"\"\n",
    "    # Zufällige Probe wählen\n",
    "    idx = random.randint(0, data.shape[0] - 1)\n",
    "    sample = data[idx]\n",
    "    voltage = data[:,:,0]\n",
    "    current = data[:,:,1]\n",
    "    time = np.arange(len(voltage))\n",
    "\n",
    "    # Plot erstellen\n",
    "    plt.figure(figsize=(10, 5))\n",
    "    plt.plot(time, voltage, label=\"Voltage\", color=\"tab:blue\")\n",
    "    plt.plot(time, current, label=\"Current\", color=\"tab:orange\")\n",
    "    plt.title(f\"Random Welding Sample #{idx} | Label: {labels[idx]}\")\n",
    "    plt.xlabel(\"Time Step\")\n",
    "    plt.ylabel(\"Value\")\n",
    "    plt.legend()\n",
    "    plt.tight_layout()\n",
    "\n",
    "    # Speichern oder anzeigen\n",
    "    if save_path:\n",
    "        plt.savefig(save_path)\n",
    "        plt.close()\n",
    "    else:\n",
    "        plt.show()\n"
   ],
   "outputs": [
    {
     "ename": "NameError",
     "evalue": "name 'np' is not defined",
     "output_type": "error",
     "traceback": [
      "\u001B[31m---------------------------------------------------------------------------\u001B[39m",
      "\u001B[31mNameError\u001B[39m                                 Traceback (most recent call last)",
      "\u001B[36mCell\u001B[39m\u001B[36m \u001B[39m\u001B[32mIn[2]\u001B[39m\u001B[32m, line 1\u001B[39m\n\u001B[32m----> \u001B[39m\u001B[32m1\u001B[39m \u001B[38;5;28;01mdef\u001B[39;00m\u001B[38;5;250m \u001B[39m\u001B[34mplot_random_sample\u001B[39m(data: \u001B[43mnp\u001B[49m.ndarray, labels: np.ndarray, save_path: Path = \u001B[38;5;28;01mNone\u001B[39;00m) -> \u001B[38;5;28;01mNone\u001B[39;00m:\n\u001B[32m      2\u001B[39m \u001B[38;5;250m    \u001B[39m\u001B[33;03m\"\"\"\u001B[39;00m\n\u001B[32m      3\u001B[39m \u001B[33;03m    Plots a random welding sample (voltage and current) and saves it as a PNG file.\u001B[39;00m\n\u001B[32m      4\u001B[39m \n\u001B[32m   (...)\u001B[39m\u001B[32m      8\u001B[39m \u001B[33;03m        save_path (Path, optional): Path to save the figure. If None, the plot is shown instead.\u001B[39;00m\n\u001B[32m      9\u001B[39m \u001B[33;03m    \"\"\"\u001B[39;00m\n\u001B[32m     10\u001B[39m     \u001B[38;5;66;03m# Zufällige Probe wählen\u001B[39;00m\n",
      "\u001B[31mNameError\u001B[39m: name 'np' is not defined"
     ]
    }
   ],
   "execution_count": 2
  }
 ],
 "metadata": {
  "kernelspec": {
   "display_name": ".venv",
   "language": "python",
   "name": "python3"
  },
  "language_info": {
   "codemirror_mode": {
    "name": "ipython",
    "version": 3
   },
   "file_extension": ".py",
   "mimetype": "text/x-python",
   "name": "python",
   "nbconvert_exporter": "python",
   "pygments_lexer": "ipython3",
   "version": "3.13.2"
  }
 },
 "nbformat": 4,
 "nbformat_minor": 2
}
