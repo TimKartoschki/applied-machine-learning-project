{
 "cells": [
  {
   "cell_type": "code",
   "metadata": {
    "ExecuteTime": {
     "end_time": "2025-05-28T10:15:03.244130Z",
     "start_time": "2025-05-28T10:15:03.156776Z"
    }
   },
   "source": [
    "import numpy as np\n",
    "import pandas as pd\n",
    "from pathlib import Path\n",
    "from matplotlib import pyplot as plt\n",
    "from plotly.offline import plot\n",
    "\n",
    "import plotly.express as px\n",
    "import plotly.graph_objects as go\n",
    "from plotly.subplots import make_subplots\n",
    "\n",
    "from utils import save_plotly_figure_as_html\n",
    "from ex_01_read_data import get_welding_data\n",
    "\n"
   ],
   "outputs": [],
   "execution_count": 1
  },
  {
   "cell_type": "code",
   "metadata": {
    "ExecuteTime": {
     "end_time": "2025-05-28T10:15:03.278915Z",
     "start_time": "2025-05-28T10:15:03.275809Z"
    }
   },
   "source": [
    "data_path = Path(\"data/Welding/data.csv\")\n",
    "plot_path = Path(\"plots/ex_02\")"
   ],
   "outputs": [],
   "execution_count": 2
  },
  {
   "cell_type": "markdown",
   "metadata": {},
   "source": [
    "## Exercise 2.1: Dataset Statistics Analysis\n",
    "\n",
    "In this exercise, we'll calculate and present comprehensive descriptive statistics for the welding dataset. This statistical overview will help us understand the fundamental characteristics of our data before visualization or modeling.\n",
    "\n",
    "1. Calculate the class distribution to understand data balance\n",
    "2. Count samples per experiment to assess data volume across experimental conditions\n",
    "3. Determine min/max values for voltage and current to understand the range of measurements\n",
    "4. Calculate mean and standard deviation to assess central tendency and variability\n",
    "5. Find median values to identify central points unaffected by outliers"
   ]
  },
  {
   "cell_type": "code",
   "metadata": {
    "ExecuteTime": {
     "end_time": "2025-05-28T10:15:03.787624Z",
     "start_time": "2025-05-28T10:15:03.420966Z"
    }
   },
   "source": [
    "data, labels, exp_ids = get_welding_data(data_path)"
   ],
   "outputs": [],
   "execution_count": 3
  },
  {
   "cell_type": "code",
   "metadata": {
    "ExecuteTime": {
     "end_time": "2025-05-28T10:15:05.059863Z",
     "start_time": "2025-05-28T10:15:03.801655Z"
    }
   },
   "source": [
    "# Class Distribution\n",
    "class_counts = pd.Series(labels).value_counts().sort_index()\n",
    "print(\"Class distribution:\\n\", class_counts)\n",
    "\n",
    "# Count samples Experiment\n",
    "experiment_counts = pd.Series(exp_ids).value_counts().sort_index()\n",
    "print(\"\\nSamples per experiment:\\n\", experiment_counts)\n",
    "\n",
    "# Determine min max vlaues\n",
    "voltage_cols = np.arange(0, data.shape[1], 2)\n",
    "current_cols = np.arange(1, data.shape[1], 2)\n",
    "\n",
    "voltages = data[:, voltage_cols]\n",
    "currents = data[:, current_cols]\n",
    "\n",
    "# Statistiken\n",
    "print(\"\\nVoltage statistics:\")\n",
    "print(f\"Min: {voltages.min():.2f}, Max: {voltages.max():.2f}\")\n",
    "print(f\"Mean: {voltages.mean():.2f}, Std: {voltages.std():.2f}, Median: {np.median(voltages):.2f}\")\n",
    "\n",
    "print(\"\\nCurrent statistics:\")\n",
    "print(f\"Min: {currents.min():.2f}, Max: {currents.max():.2f}\")\n",
    "print(f\"Mean: {currents.mean():.2f}, Std: {currents.std():.2f}, Median: {np.median(currents):.2f}\")\n",
    "\n"
   ],
   "outputs": [
    {
     "name": "stdout",
     "output_type": "stream",
     "text": [
      "Class distribution:\n",
      " 0    90746\n",
      "1    67219\n",
      "Name: count, dtype: int64\n",
      "\n",
      "Samples per experiment:\n",
      " 1    35521\n",
      "2    17913\n",
      "3    46768\n",
      "4    57763\n",
      "Name: count, dtype: int64\n",
      "\n",
      "Voltage statistics:\n",
      "Min: -1.17, Max: 614.15\n",
      "Mean: 97.75, Std: 148.67, Median: 30.08\n",
      "\n",
      "Current statistics:\n",
      "Min: -1.18, Max: 613.79\n",
      "Mean: 97.74, Std: 148.67, Median: 30.08\n"
     ]
    }
   ],
   "execution_count": 4
  },
  {
   "cell_type": "markdown",
   "metadata": {},
   "source": [
    "## Exercise 2.2: Current and Voltage Distribution Visualization\n",
    "\n",
    "In this exercise, we'll create interactive boxplots to visualize and compare the distributions of voltage and current measurements in the welding data. Boxplots will help us identify central tendencies, spread, and potential outliers in our measurements.\n",
    "\n",
    "1. Create side-by-side boxplots for voltage and current using Plotly\n",
    "2. Display key statistics (median, quartiles, etc.) in a visual format in the plot\n",
    "3. Enable interactive exploration of the distributions\n",
    "4. Save the visualization for future reference"
   ]
  },
  {
   "cell_type": "code",
   "metadata": {
    "ExecuteTime": {
     "end_time": "2025-05-28T10:15:05.198030Z",
     "start_time": "2025-05-28T10:15:05.076683Z"
    }
   },
   "source": [
    "data, labels, exp_ids = get_welding_data(data_path, n_samples=10)\n",
    "\n",
    "save_path =  plot_path / \"voltage_current_distribution\""
   ],
   "outputs": [],
   "execution_count": 5
  },
  {
   "cell_type": "code",
   "metadata": {
    "ExecuteTime": {
     "end_time": "2025-05-28T10:15:10.459717Z",
     "start_time": "2025-05-28T10:15:05.214105Z"
    }
   },
   "source": [
    "# Select voltage and current columns\n",
    "voltage_cols = np.arange(0, data.shape[1], 2)\n",
    "current_cols = np.arange(1, data.shape[1], 2)\n",
    "\n",
    "voltages = data[:, voltage_cols].flatten()\n",
    "currents = data[:, current_cols].flatten()\n",
    "\n",
    "# Create a DataFrame for plotting\n",
    "df_plot = pd.DataFrame({\n",
    "    \"Voltage\": voltages,\n",
    "    \"Current\": currents\n",
    "})\n",
    "\n",
    "# Melt the DataFrame to long format for Plotly\n",
    "df_melted = df_plot.melt(var_name='Measurement Type', value_name='Value')\n",
    "\n",
    "# Create boxplot\n",
    "fig = px.box(df_melted, x='Measurement Type', y='Value', points='all', title=\"Voltage and Current Distributions\")\n",
    "\n",
    "# Show interactive plot\n",
    "plot(fig)\n",
    "\n",
    "# Save to HTML\n",
    "save_plotly_figure_as_html(fig, save_path)\n"
   ],
   "outputs": [],
   "execution_count": 6
  },
  {
   "cell_type": "markdown",
   "metadata": {},
   "source": [
    "## Exercise 2.3: Time-Series Sequence Visualization\n",
    "\n",
    "In this exercise, we'll implement functions to visualize the time-series patterns of welding cycles. These visualizations will help us understand the temporal relationships between voltage and current during the welding process and identify patterns associated with quality outcomes.\n",
    "\n",
    "1. Create dual-axis plots showing voltage and current over time (10 welding cycles -> sequence_length=10) using matplotlib\n",
    "2. Implement clear legends and labels for data interpretation\n",
    "3. Enable saving of visualizations for reporting and comparison"
   ]
  },
  {
   "cell_type": "code",
   "metadata": {
    "ExecuteTime": {
     "end_time": "2025-05-28T10:15:10.612649Z",
     "start_time": "2025-05-28T10:15:10.484181Z"
    }
   },
   "source": [
    "\n",
    "data, labels, exp_ids = get_welding_data(data_path, n_samples=100, return_sequences=True, sequence_length=10)\n",
    "save_path = plot_path / \"welding_sample.png\"    "
   ],
   "outputs": [],
   "execution_count": 7
  },
  {
   "cell_type": "code",
   "metadata": {
    "ExecuteTime": {
     "end_time": "2025-05-28T10:15:11.341333Z",
     "start_time": "2025-05-28T10:15:10.642282Z"
    }
   },
   "source": [
    "index = 0\n",
    "\n",
    "if index >= len(data):\n",
    "    raise IndexError(f\"Index {index} is out of range for data with shape {data.shape}\")\n",
    "\n",
    "sequence = data[index]\n",
    "time = np.arange(sequence.shape[0])\n",
    "current = sequence[:, 0]\n",
    "voltage = sequence[:, 1]\n",
    "\n",
    "fig, ax1 = plt.subplots(figsize=(10, 5))\n",
    "\n",
    "# Plot current\n",
    "ax1.set_xlabel(\"Time step\")\n",
    "ax1.set_ylabel(\"Current (A)\", color='tab:blue')\n",
    "ax1.plot(time, current, label=\"Current\", color='tab:blue')\n",
    "ax1.tick_params(axis='y', labelcolor='tab:blue')\n",
    "\n",
    "# Plot voltage on second axis\n",
    "ax2 = ax1.twinx()\n",
    "ax2.set_ylabel(\"Voltage (V)\", color='tab:red')\n",
    "ax2.plot(time, voltage, label=\"Voltage\", color='tab:red')\n",
    "ax2.tick_params(axis='y', labelcolor='tab:red')\n",
    "\n",
    "# Title and legend\n",
    "plt.title(f\"Sequence for Welding Cycle #{exp_ids[index]} (Label: {labels[index]})\")\n",
    "\n",
    "lines_1, labels_1 = ax1.get_legend_handles_labels()\n",
    "lines_2, labels_2 = ax2.get_legend_handles_labels()\n",
    "ax1.legend(lines_1 + lines_2, labels_1 + labels_2, loc='upper left')\n",
    "\n",
    "fig.tight_layout()\n",
    "\n",
    "if save_path:\n",
    "    save_path.parent.mkdir(parents=True, exist_ok=True)\n",
    "    plt.savefig(save_path, dpi=300, bbox_inches=\"tight\")\n",
    "    print(f\"Plot saved to {save_path}\")\n",
    "else:\n",
    "    plt.show()\n",
    "\n",
    "    plt.close()"
   ],
   "outputs": [
    {
     "name": "stdout",
     "output_type": "stream",
     "text": [
      "Plot saved to plots/ex_02/welding_sample.png\n"
     ]
    },
    {
     "data": {
      "text/plain": [
       "<Figure size 1000x500 with 2 Axes>"
      ],
      "image/png": "[encoded data removed]"
     },
     "metadata": {},
     "output_type": "display_data"
    }
   ],
   "execution_count": 8
  },
  {
   "cell_type": "markdown",
   "metadata": {},
   "source": [
    "## Exercise 2.4: Interactive Time-Series Visualization with Plotly\n",
    "\n",
    "In this exercise, we'll create enhanced interactive visualizations of welding samples using Plotly. These interactive plots will provide more advanced exploration capabilities for analyzing the time-series patterns.\n",
    "\n",
    "1. Create interactive plots with dual y-axes for voltage and current\n",
    "2. Implement time-based range sliders for detailed exploration\n",
    "3. Add unified tooltips for precise data reading\n",
    "4. Display quality metrics in the plot title\n",
    "5. Save interactive visualizations as HTML for sharing"
   ]
  },
  {
   "cell_type": "code",
   "metadata": {
    "ExecuteTime": {
     "end_time": "2025-05-28T10:15:11.751882Z",
     "start_time": "2025-05-28T10:15:11.745634Z"
    }
   },
   "source": [
    "import numpy as np\n",
    "import plotly.graph_objects as go\n",
    "import random\n",
    "\n",
    "def create_plotly_plot(data: np.ndarray, labels: np.ndarray, exp_ids: np.ndarray = None) -> go.Figure:\n",
    "    idx = random.randint(0, data.shape[0] - 1)\n",
    "    sample = data[idx]\n",
    "    voltage = sample[:, 0]\n",
    "    current = sample[:, 1]\n",
    "    time = np.arange(len(voltage))  # Annahme: gleichmäßig verteilte Zeit\n",
    "\n",
    "    fig = go.Figure()\n",
    "    fig.add_trace(go.Scatter(x=time, y=voltage, mode='lines', name='Voltage'))\n",
    "    fig.add_trace(go.Scatter(x=time, y=current, mode='lines', name='Current'))\n",
    "\n",
    "    title = f\"Sample #{idx}\"\n",
    "    if exp_ids is not None:\n",
    "        title += f\" | Experiment ID: {exp_ids[idx]}\"\n",
    "    if labels is not None:\n",
    "        title += f\" | Label: {labels[idx]}\"\n",
    "\n",
    "    fig.update_layout(\n",
    "        title=title,\n",
    "        xaxis_title='Time Step',\n",
    "        yaxis_title='Value',\n",
    "        legend=dict(x=0, y=1),\n",
    "        template='plotly_dark'\n",
    "    )\n",
    "\n",
    "    return fig\n"
   ],
   "outputs": [],
   "execution_count": 9
  },
  {
   "metadata": {
    "ExecuteTime": {
     "end_time": "2025-05-28T10:15:12.258718Z",
     "start_time": "2025-05-28T10:15:11.824962Z"
    }
   },
   "cell_type": "code",
   "source": [
    "# Beispiel: Funktion testen\n",
    "data, labels, exp_ids = get_welding_data(data_path, n_samples=100)\n",
    "\n",
    "# Erzeuge zufällige interaktive Visualisierung\n",
    "fig = create_plotly_plot(data, labels, exp_ids)\n",
    "\n",
    "# Speichern und anzeigen\n",
    "save_plotly_figure_as_html(fig, plot_path / \"welding_sample_random.html\")\n",
    "fig.show()\n"
   ],
   "outputs": [
    {
     "data": {
      "application/vnd.plotly.v1+json": {
       "data": [
        {
         "mode": "lines",
         "name": "Voltage",
         "x": {
          "dtype": "i2",
          "bdata": "AAABAAIAAwAEAAUABgAHAAgACQAKAAsADAANAA4ADwAQABEAEgATABQAFQAWABcAGAAZABoAGwAcAB0AHgAfACAAIQAiACMAJAAlACYAJwAoACkAKgArACwALQAuAC8AMAAxADIAMwA0ADUANgA3ADgAOQA6ADsAPAA9AD4APwBAAEEAQgBDAEQARQBGAEcASABJAEoASwBMAE0ATgBPAFAAUQBSAFMAVABVAFYAVwBYAFkAWgBbAFwAXQBeAF8AYABhAGIAYwBkAGUAZgBnAGgAaQBqAGsAbABtAG4AbwBwAHEAcgBzAHQAdQB2AHcAeAB5AHoAewB8AH0AfgB/AIAAgQCCAIMAhACFAIYAhwCIAIkAigCLAIwAjQCOAI8AkACRAJIAkwCUAJUAlgCXAJgAmQCaAJsAnACdAJ4AnwCgAKEAogCjAKQApQCmAKcAqACpAKoAqwCsAK0ArgCvALAAsQCyALMAtAC1ALYAtwC4ALkAugC7ALwAvQC+AL8AwADBAMIAwwDEAMUAxgDHAA=="
         },
         "y": {
          "dtype": "f8",
          "bdata": "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"
         },
         "type": "scatter"
        },
        {
         "mode": "lines",
         "name": "Current",
         "x": {
          "dtype": "i2",
          "bdata": "AAABAAIAAwAEAAUABgAHAAgACQAKAAsADAANAA4ADwAQABEAEgATABQAFQAWABcAGAAZABoAGwAcAB0AHgAfACAAIQAiACMAJAAlACYAJwAoACkAKgArACwALQAuAC8AMAAxADIAMwA0ADUANgA3ADgAOQA6ADsAPAA9AD4APwBAAEEAQgBDAEQARQBGAEcASABJAEoASwBMAE0ATgBPAFAAUQBSAFMAVABVAFYAVwBYAFkAWgBbAFwAXQBeAF8AYABhAGIAYwBkAGUAZgBnAGgAaQBqAGsAbABtAG4AbwBwAHEAcgBzAHQAdQB2AHcAeAB5AHoAewB8AH0AfgB/AIAAgQCCAIMAhACFAIYAhwCIAIkAigCLAIwAjQCOAI8AkACRAJIAkwCUAJUAlgCXAJgAmQCaAJsAnACdAJ4AnwCgAKEAogCjAKQApQCmAKcAqACpAKoAqwCsAK0ArgCvALAAsQCyALMAtAC1ALYAtwC4ALkAugC7ALwAvQC+AL8AwADBAMIAwwDEAMUAxgDHAA=="
         },
         "y": {
          "dtype": "f8",
          "bdata": "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"
         },
         "type": "scatter"
        }
       ],
       "layout": {
        "template": {
         "data": {
          "histogram2dcontour": [
           {
            "type": "histogram2dcontour",
            "colorbar": {
             "outlinewidth": 0,
             "ticks": ""
            },
            "colorscale": [
             [
              0.0,
              "#0d0887"
             ],
             [
              0.1111111111111111,
              "#46039f"
             ],
             [
              0.2222222222222222,
              "#7201a8"
             ],
             [
              0.3333333333333333,
              "#9c179e"
             ],
             [
              0.4444444444444444,
              "#bd3786"
             ],
             [
              0.5555555555555556,
              "#d8576b"
             ],
             [
              0.6666666666666666,
              "#ed7953"
             ],
             [
              0.7777777777777778,
              "#fb9f3a"
             ],
             [
              0.8888888888888888,
              "#fdca26"
             ],
             [
              1.0,
              "#f0f921"
             ]
            ]
           }
          ],
          "choropleth": [
           {
            "type": "choropleth",
            "colorbar": {
             "outlinewidth": 0,
             "ticks": ""
            }
           }
          ],
          "histogram2d": [
           {
            "type": "histogram2d",
            "colorbar": {
             "outlinewidth": 0,
             "ticks": ""
            },
            "colorscale": [
             [
              0.0,
              "#0d0887"
             ],
             [
              0.1111111111111111,
              "#46039f"
             ],
             [
              0.2222222222222222,
              "#7201a8"
             ],
             [
              0.3333333333333333,
              "#9c179e"
             ],
             [
              0.4444444444444444,
              "#bd3786"
             ],
             [
              0.5555555555555556,
              "#d8576b"
             ],
             [
              0.6666666666666666,
              "#ed7953"
             ],
             [
              0.7777777777777778,
              "#fb9f3a"
             ],
             [
              0.8888888888888888,
              "#fdca26"
             ],
             [
              1.0,
              "#f0f921"
             ]
            ]
           }
          ],
          "heatmap": [
           {
            "type": "heatmap",
            "colorbar": {
             "outlinewidth": 0,
             "ticks": ""
            },
            "colorscale": [
             [
              0.0,
              "#0d0887"
             ],
             [
              0.1111111111111111,
              "#46039f"
             ],
             [
              0.2222222222222222,
              "#7201a8"
             ],
             [
              0.3333333333333333,
              "#9c179e"
             ],
             [
              0.4444444444444444,
              "#bd3786"
             ],
             [
              0.5555555555555556,
              "#d8576b"
             ],
             [
              0.6666666666666666,
              "#ed7953"
             ],
             [
              0.7777777777777778,
              "#fb9f3a"
             ],
             [
              0.8888888888888888,
              "#fdca26"
             ],
             [
              1.0,
              "#f0f921"
             ]
            ]
           }
          ],
          "contourcarpet": [
           {
            "type": "contourcarpet",
            "colorbar": {
             "outlinewidth": 0,
             "ticks": ""
            }
           }
          ],
          "contour": [
           {
            "type": "contour",
            "colorbar": {
             "outlinewidth": 0,
             "ticks": ""
            },
            "colorscale": [
             [
              0.0,
              "#0d0887"
             ],
             [
              0.1111111111111111,
              "#46039f"
             ],
             [
              0.2222222222222222,
              "#7201a8"
             ],
             [
              0.3333333333333333,
              "#9c179e"
             ],
             [
              0.4444444444444444,
              "#bd3786"
             ],
             [
              0.5555555555555556,
              "#d8576b"
             ],
             [
              0.6666666666666666,
              "#ed7953"
             ],
             [
              0.7777777777777778,
              "#fb9f3a"
             ],
             [
              0.8888888888888888,
              "#fdca26"
             ],
             [
              1.0,
              "#f0f921"
             ]
            ]
           }
          ],
          "surface": [
           {
            "type": "surface",
            "colorbar": {
             "outlinewidth": 0,
             "ticks": ""
            },
            "colorscale": [
             [
              0.0,
              "#0d0887"
             ],
             [
              0.1111111111111111,
              "#46039f"
             ],
             [
              0.2222222222222222,
              "#7201a8"
             ],
             [
              0.3333333333333333,
              "#9c179e"
             ],
             [
              0.4444444444444444,
              "#bd3786"
             ],
             [
              0.5555555555555556,
              "#d8576b"
             ],
             [
              0.6666666666666666,
              "#ed7953"
             ],
             [
              0.7777777777777778,
              "#fb9f3a"
             ],
             [
              0.8888888888888888,
              "#fdca26"
             ],
             [
              1.0,
              "#f0f921"
             ]
            ]
           }
          ],
          "mesh3d": [
           {
            "type": "mesh3d",
            "colorbar": {
             "outlinewidth": 0,
             "ticks": ""
            }
           }
          ],
          "scatter": [
           {
            "marker": {
             "line": {
              "color": "#283442"
             }
            },
            "type": "scatter"
           }
          ],
          "parcoords": [
           {
            "type": "parcoords",
            "line": {
             "colorbar": {
              "outlinewidth": 0,
              "ticks": ""
             }
            }
           }
          ],
          "scatterpolargl": [
           {
            "type": "scatterpolargl",
            "marker": {
             "colorbar": {
              "outlinewidth": 0,
              "ticks": ""
             }
            }
           }
          ],
          "bar": [
           {
            "error_x": {
             "color": "#f2f5fa"
            },
            "error_y": {
             "color": "#f2f5fa"
            },
            "marker": {
             "line": {
              "color": "rgb(17,17,17)",
              "width": 0.5
             },
             "pattern": {
              "fillmode": "overlay",
              "size": 10,
              "solidity": 0.2
             }
            },
            "type": "bar"
           }
          ],
          "scattergeo": [
           {
            "type": "scattergeo",
            "marker": {
             "colorbar": {
              "outlinewidth": 0,
              "ticks": ""
             }
            }
           }
          ],
          "scatterpolar": [
           {
            "type": "scatterpolar",
            "marker": {
             "colorbar": {
              "outlinewidth": 0,
              "ticks": ""
             }
            }
           }
          ],
          "histogram": [
           {
            "marker": {
             "pattern": {
              "fillmode": "overlay",
              "size": 10,
              "solidity": 0.2
             }
            },
            "type": "histogram"
           }
          ],
          "scattergl": [
           {
            "marker": {
             "line": {
              "color": "#283442"
             }
            },
            "type": "scattergl"
           }
          ],
          "scatter3d": [
           {
            "type": "scatter3d",
            "line": {
             "colorbar": {
              "outlinewidth": 0,
              "ticks": ""
             }
            },
            "marker": {
             "colorbar": {
              "outlinewidth": 0,
              "ticks": ""
             }
            }
           }
          ],
          "scattermap": [
           {
            "type": "scattermap",
            "marker": {
             "colorbar": {
              "outlinewidth": 0,
              "ticks": ""
             }
            }
           }
          ],
          "scattermapbox": [
           {
            "type": "scattermapbox",
            "marker": {
             "colorbar": {
              "outlinewidth": 0,
              "ticks": ""
             }
            }
           }
          ],
          "scatterternary": [
           {
            "type": "scatterternary",
            "marker": {
             "colorbar": {
              "outlinewidth": 0,
              "ticks": ""
             }
            }
           }
          ],
          "scattercarpet": [
           {
            "type": "scattercarpet",
            "marker": {
             "colorbar": {
              "outlinewidth": 0,
              "ticks": ""
             }
            }
           }
          ],
          "carpet": [
           {
            "aaxis": {
             "endlinecolor": "#A2B1C6",
             "gridcolor": "#506784",
             "linecolor": "#506784",
             "minorgridcolor": "#506784",
             "startlinecolor": "#A2B1C6"
            },
            "baxis": {
             "endlinecolor": "#A2B1C6",
             "gridcolor": "#506784",
             "linecolor": "#506784",
             "minorgridcolor": "#506784",
             "startlinecolor": "#A2B1C6"
            },
            "type": "carpet"
           }
          ],
          "table": [
           {
            "cells": {
             "fill": {
              "color": "#506784"
             },
             "line": {
              "color": "rgb(17,17,17)"
             }
            },
            "header": {
             "fill": {
              "color": "#2a3f5f"
             },
             "line": {
              "color": "rgb(17,17,17)"
             }
            },
            "type": "table"
           }
          ],
          "barpolar": [
           {
            "marker": {
             "line": {
              "color": "rgb(17,17,17)",
              "width": 0.5
             },
             "pattern": {
              "fillmode": "overlay",
              "size": 10,
              "solidity": 0.2
             }
            },
            "type": "barpolar"
           }
          ],
          "pie": [
           {
            "automargin": true,
            "type": "pie"
           }
          ]
         },
         "layout": {
          "autotypenumbers": "strict",
          "colorway": [
           "#636efa",
           "#EF553B",
           "#00cc96",
           "#ab63fa",
           "#FFA15A",
           "#19d3f3",
           "#FF6692",
           "#B6E880",
           "#FF97FF",
           "#FECB52"
          ],
          "font": {
           "color": "#f2f5fa"
          },
          "hovermode": "closest",
          "hoverlabel": {
           "align": "left"
          },
          "paper_bgcolor": "rgb(17,17,17)",
          "plot_bgcolor": "rgb(17,17,17)",
          "polar": {
           "bgcolor": "rgb(17,17,17)",
           "angularaxis": {
            "gridcolor": "#506784",
            "linecolor": "#506784",
            "ticks": ""
           },
           "radialaxis": {
            "gridcolor": "#506784",
            "linecolor": "#506784",
            "ticks": ""
           }
          },
          "ternary": {
           "bgcolor": "rgb(17,17,17)",
           "aaxis": {
            "gridcolor": "#506784",
            "linecolor": "#506784",
            "ticks": ""
           },
           "baxis": {
            "gridcolor": "#506784",
            "linecolor": "#506784",
            "ticks": ""
           },
           "caxis": {
            "gridcolor": "#506784",
            "linecolor": "#506784",
            "ticks": ""
           }
          },
          "coloraxis": {
           "colorbar": {
            "outlinewidth": 0,
            "ticks": ""
           }
          },
          "colorscale": {
           "sequential": [
            [
             0.0,
             "#0d0887"
            ],
            [
             0.1111111111111111,
             "#46039f"
            ],
            [
             0.2222222222222222,
             "#7201a8"
            ],
            [
             0.3333333333333333,
             "#9c179e"
            ],
            [
             0.4444444444444444,
             "#bd3786"
            ],
            [
             0.5555555555555556,
             "#d8576b"
            ],
            [
             0.6666666666666666,
             "#ed7953"
            ],
            [
             0.7777777777777778,
             "#fb9f3a"
            ],
            [
             0.8888888888888888,
             "#fdca26"
            ],
            [
             1.0,
             "#f0f921"
            ]
           ],
           "sequentialminus": [
            [
             0.0,
             "#0d0887"
            ],
            [
             0.1111111111111111,
             "#46039f"
            ],
            [
             0.2222222222222222,
             "#7201a8"
            ],
            [
             0.3333333333333333,
             "#9c179e"
            ],
            [
             0.4444444444444444,
             "#bd3786"
            ],
            [
             0.5555555555555556,
             "#d8576b"
            ],
            [
             0.6666666666666666,
             "#ed7953"
            ],
            [
             0.7777777777777778,
             "#fb9f3a"
            ],
            [
             0.8888888888888888,
             "#fdca26"
            ],
            [
             1.0,
             "#f0f921"
            ]
           ],
           "diverging": [
            [
             0,
             "#8e0152"
            ],
            [
             0.1,
             "#c51b7d"
            ],
            [
             0.2,
             "#de77ae"
            ],
            [
             0.3,
             "#f1b6da"
            ],
            [
             0.4,
             "#fde0ef"
            ],
            [
             0.5,
             "#f7f7f7"
            ],
            [
             0.6,
             "#e6f5d0"
            ],
            [
             0.7,
             "#b8e186"
            ],
            [
             0.8,
             "#7fbc41"
            ],
            [
             0.9,
             "#4d9221"
            ],
            [
             1,
             "#276419"
            ]
           ]
          },
          "xaxis": {
           "gridcolor": "#283442",
           "linecolor": "#506784",
           "ticks": "",
           "title": {
            "standoff": 15
           },
           "zerolinecolor": "#283442",
           "automargin": true,
           "zerolinewidth": 2
          },
          "yaxis": {
           "gridcolor": "#283442",
           "linecolor": "#506784",
           "ticks": "",
           "title": {
            "standoff": 15
           },
           "zerolinecolor": "#283442",
           "automargin": true,
           "zerolinewidth": 2
          },
          "scene": {
           "xaxis": {
            "backgroundcolor": "rgb(17,17,17)",
            "gridcolor": "#506784",
            "linecolor": "#506784",
            "showbackground": true,
            "ticks": "",
            "zerolinecolor": "#C8D4E3",
            "gridwidth": 2
           },
           "yaxis": {
            "backgroundcolor": "rgb(17,17,17)",
            "gridcolor": "#506784",
            "linecolor": "#506784",
            "showbackground": true,
            "ticks": "",
            "zerolinecolor": "#C8D4E3",
            "gridwidth": 2
           },
           "zaxis": {
            "backgroundcolor": "rgb(17,17,17)",
            "gridcolor": "#506784",
            "linecolor": "#506784",
            "showbackground": true,
            "ticks": "",
            "zerolinecolor": "#C8D4E3",
            "gridwidth": 2
           }
          },
          "shapedefaults": {
           "line": {
            "color": "#f2f5fa"
           }
          },
          "annotationdefaults": {
           "arrowcolor": "#f2f5fa",
           "arrowhead": 0,
           "arrowwidth": 1
          },
          "geo": {
           "bgcolor": "rgb(17,17,17)",
           "landcolor": "rgb(17,17,17)",
           "subunitcolor": "#506784",
           "showland": true,
           "showlakes": true,
           "lakecolor": "rgb(17,17,17)"
          },
          "title": {
           "x": 0.05
          },
          "updatemenudefaults": {
           "bgcolor": "#506784",
           "borderwidth": 0
          },
          "sliderdefaults": {
           "bgcolor": "#C8D4E3",
           "borderwidth": 1,
           "bordercolor": "rgb(17,17,17)",
           "tickwidth": 0
          },
          "mapbox": {
           "style": "dark"
          }
         }
        },
        "legend": {
         "x": 0,
         "y": 1
        },
        "title": {
         "text": "Sample #50 | Experiment ID: 1 | Label: 1"
        },
        "xaxis": {
         "title": {
          "text": "Time Step"
         }
        },
        "yaxis": {
         "title": {
          "text": "Value"
         }
        }
       },
       "config": {
        "plotlyServerURL": "https://plot.ly"
       }
      }
     },
     "metadata": {},
     "output_type": "display_data"
    }
   ],
   "execution_count": 10
  },
  {
   "cell_type": "markdown",
   "metadata": {},
   "source": [
    "## Exercise 2.5: Multiple Sample Comparison\n",
    "\n",
    "In this exercise, we'll generate and compare visualizations from multiple random welding samples. This comparison will help us identify common patterns and variations across different welding cycles.\n",
    " \n",
    "\n",
    "1. Generate multiple random sample visualizations using matplotlib of single welding cycles\n",
    "2. Create dual-axis plots showing voltage and current over time\n",
    "3. Implement clear legends and labels for data interpretation\n",
    "4. Save each visualization for comparison"
   ]
  },
  {
   "cell_type": "code",
   "metadata": {
    "ExecuteTime": {
     "end_time": "2025-05-28T10:15:12.441217Z",
     "start_time": "2025-05-28T10:15:12.308620Z"
    }
   },
   "source": [
    "data, labels, exp_ids = get_welding_data(data_path, n_samples=1_000)"
   ],
   "outputs": [],
   "execution_count": 11
  },
  {
   "cell_type": "code",
   "metadata": {
    "ExecuteTime": {
     "end_time": "2025-05-28T10:15:12.809554Z",
     "start_time": "2025-05-28T10:15:12.471284Z"
    }
   },
   "source": [
    "for i in range(5):\n",
    "    plot_random_sample(data, labels, save_path=plot_path / f\"welding_sample_{i}.png\")\n",
    "    "
   ],
   "outputs": [
    {
     "ename": "NameError",
     "evalue": "name 'plot_random_sample' is not defined",
     "output_type": "error",
     "traceback": [
      "\u001B[0;31m---------------------------------------------------------------------------\u001B[0m",
      "\u001B[0;31mNameError\u001B[0m                                 Traceback (most recent call last)",
      "Cell \u001B[0;32mIn[12], line 2\u001B[0m\n\u001B[1;32m      1\u001B[0m \u001B[38;5;28;01mfor\u001B[39;00m i \u001B[38;5;129;01min\u001B[39;00m \u001B[38;5;28mrange\u001B[39m(\u001B[38;5;241m5\u001B[39m):\n\u001B[0;32m----> 2\u001B[0m     \u001B[43mplot_random_sample\u001B[49m(data, labels, save_path\u001B[38;5;241m=\u001B[39mplot_path \u001B[38;5;241m/\u001B[39m \u001B[38;5;124mf\u001B[39m\u001B[38;5;124m\"\u001B[39m\u001B[38;5;124mwelding_sample_\u001B[39m\u001B[38;5;132;01m{\u001B[39;00mi\u001B[38;5;132;01m}\u001B[39;00m\u001B[38;5;124m.png\u001B[39m\u001B[38;5;124m\"\u001B[39m)\n",
      "\u001B[0;31mNameError\u001B[0m: name 'plot_random_sample' is not defined"
     ]
    }
   ],
   "execution_count": 12
  },
  {
   "cell_type": "code",
   "metadata": {
    "ExecuteTime": {
     "end_time": "2025-05-28T10:15:12.823617630Z",
     "start_time": "2025-05-26T12:42:43.512935Z"
    }
   },
   "source": [
    "def plot_random_sample(data: np.ndarray, labels: np.ndarray, save_path: Path = None) -> None:\n",
    "    \"\"\"\n",
    "    Plots a random welding sample (voltage and current) and saves it as a PNG file.\n",
    "\n",
    "    Args:\n",
    "        data (np.ndarray): Welding data array (shape: [n_samples, n_timesteps, 2])\n",
    "        labels (np.ndarray): Array of class labels\n",
    "        save_path (Path, optional): Path to save the figure. If None, the plot is shown instead.\n",
    "    \"\"\"\n",
    "    # Zufällige Probe wählen\n",
    "    idx = random.randint(0, data.shape[0] - 1)\n",
    "    sample = data[idx]\n",
    "    voltage = sample[:, 0]\n",
    "    current = sample[:, 1]\n",
    "    time = np.arange(len(voltage))\n",
    "\n",
    "    # Plot erstellen\n",
    "    plt.figure(figsize=(10, 5))\n",
    "    plt.plot(time, voltage, label=\"Voltage\", color=\"tab:blue\")\n",
    "    plt.plot(time, current, label=\"Current\", color=\"tab:orange\")\n",
    "    plt.title(f\"Random Welding Sample #{idx} | Label: {labels[idx]}\")\n",
    "    plt.xlabel(\"Time Step\")\n",
    "    plt.ylabel(\"Value\")\n",
    "    plt.legend()\n",
    "    plt.tight_layout()\n",
    "\n",
    "    # Speichern oder anzeigen\n",
    "    if save_path:\n",
    "        plt.savefig(save_path)\n",
    "        plt.close()\n",
    "    else:\n",
    "        plt.show()\n"
   ],
   "outputs": [],
   "execution_count": 35
  }
 ],
 "metadata": {
  "kernelspec": {
   "display_name": ".venv",
   "language": "python",
   "name": "python3"
  },
  "language_info": {
   "codemirror_mode": {
    "name": "ipython",
    "version": 3
   },
   "file_extension": ".py",
   "mimetype": "text/x-python",
   "name": "python",
   "nbconvert_exporter": "python",
   "pygments_lexer": "ipython3",
   "version": "3.13.2"
  }
 },
 "nbformat": 4,
 "nbformat_minor": 2
}
